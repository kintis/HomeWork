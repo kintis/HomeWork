{
 "cells": [
  {
   "attachments": {},
   "cell_type": "markdown",
   "metadata": {},
   "source": [
    "ЗАДАНИЕ 4. ФАКТОРНЫЙ АНАЛИЗ"
   ]
  },
  {
   "attachments": {},
   "cell_type": "markdown",
   "metadata": {},
   "source": [
    "Раздел 1. Предварительный анализ данных"
   ]
  },
  {
   "attachments": {},
   "cell_type": "markdown",
   "metadata": {},
   "source": [
    "2.\tЗагрузите данные файла stickleback.csv с помощью функции read_csv() из модуля pandas. Посмотрите на первые 5 наблюдений с помощью функции head()."
   ]
  },
  {
   "cell_type": "code",
   "execution_count": 1,
   "metadata": {},
   "outputs": [
    {
     "data": {
      "text/html": [
       "<div>\n",
       "<style scoped>\n",
       "    .dataframe tbody tr th:only-of-type {\n",
       "        vertical-align: middle;\n",
       "    }\n",
       "\n",
       "    .dataframe tbody tr th {\n",
       "        vertical-align: top;\n",
       "    }\n",
       "\n",
       "    .dataframe thead th {\n",
       "        text-align: right;\n",
       "    }\n",
       "</style>\n",
       "<table border=\"1\" class=\"dataframe\">\n",
       "  <thead>\n",
       "    <tr style=\"text-align: right;\">\n",
       "      <th></th>\n",
       "      <th>LUNGES</th>\n",
       "      <th>BITES</th>\n",
       "      <th>ZIGZAGS</th>\n",
       "      <th>NEST</th>\n",
       "      <th>SPINES</th>\n",
       "      <th>DNEST</th>\n",
       "      <th>BOUT</th>\n",
       "      <th>Unnamed: 7</th>\n",
       "      <th>Unnamed: 8</th>\n",
       "      <th>Unnamed: 9</th>\n",
       "      <th>Unnamed: 10</th>\n",
       "      <th>Unnamed: 11</th>\n",
       "      <th>Unnamed: 12</th>\n",
       "      <th>Unnamed: 13</th>\n",
       "      <th>Unnamed: 14</th>\n",
       "      <th>Unnamed: 15</th>\n",
       "      <th>Unnamed: 16</th>\n",
       "      <th>Unnamed: 17</th>\n",
       "      <th>Unnamed: 18</th>\n",
       "    </tr>\n",
       "  </thead>\n",
       "  <tbody>\n",
       "    <tr>\n",
       "      <th>0</th>\n",
       "      <td>79.0</td>\n",
       "      <td>25.0</td>\n",
       "      <td>0.0</td>\n",
       "      <td>0.0</td>\n",
       "      <td>15.0</td>\n",
       "      <td>0.0</td>\n",
       "      <td>45.0</td>\n",
       "      <td>NaN</td>\n",
       "      <td>NaN</td>\n",
       "      <td>NaN</td>\n",
       "      <td>NaN</td>\n",
       "      <td>NaN</td>\n",
       "      <td>NaN</td>\n",
       "      <td>NaN</td>\n",
       "      <td>NaN</td>\n",
       "      <td>NaN</td>\n",
       "      <td>NaN</td>\n",
       "      <td>NaN</td>\n",
       "      <td>NaN</td>\n",
       "    </tr>\n",
       "    <tr>\n",
       "      <th>1</th>\n",
       "      <td>136.0</td>\n",
       "      <td>58.0</td>\n",
       "      <td>6.0</td>\n",
       "      <td>0.0</td>\n",
       "      <td>15.0</td>\n",
       "      <td>0.0</td>\n",
       "      <td>148.0</td>\n",
       "      <td>NaN</td>\n",
       "      <td>NaN</td>\n",
       "      <td>NaN</td>\n",
       "      <td>NaN</td>\n",
       "      <td>NaN</td>\n",
       "      <td>NaN</td>\n",
       "      <td>NaN</td>\n",
       "      <td>NaN</td>\n",
       "      <td>NaN</td>\n",
       "      <td>NaN</td>\n",
       "      <td>NaN</td>\n",
       "      <td>NaN</td>\n",
       "    </tr>\n",
       "    <tr>\n",
       "      <th>2</th>\n",
       "      <td>115.0</td>\n",
       "      <td>30.0</td>\n",
       "      <td>2.0</td>\n",
       "      <td>1.0</td>\n",
       "      <td>9.0</td>\n",
       "      <td>5.0</td>\n",
       "      <td>29.0</td>\n",
       "      <td>NaN</td>\n",
       "      <td>NaN</td>\n",
       "      <td>NaN</td>\n",
       "      <td>NaN</td>\n",
       "      <td>NaN</td>\n",
       "      <td>NaN</td>\n",
       "      <td>NaN</td>\n",
       "      <td>NaN</td>\n",
       "      <td>NaN</td>\n",
       "      <td>NaN</td>\n",
       "      <td>NaN</td>\n",
       "      <td>NaN</td>\n",
       "    </tr>\n",
       "    <tr>\n",
       "      <th>3</th>\n",
       "      <td>129.0</td>\n",
       "      <td>139.0</td>\n",
       "      <td>16.0</td>\n",
       "      <td>0.0</td>\n",
       "      <td>22.0</td>\n",
       "      <td>0.0</td>\n",
       "      <td>69.0</td>\n",
       "      <td>NaN</td>\n",
       "      <td>NaN</td>\n",
       "      <td>NaN</td>\n",
       "      <td>NaN</td>\n",
       "      <td>NaN</td>\n",
       "      <td>NaN</td>\n",
       "      <td>NaN</td>\n",
       "      <td>NaN</td>\n",
       "      <td>NaN</td>\n",
       "      <td>NaN</td>\n",
       "      <td>NaN</td>\n",
       "      <td>NaN</td>\n",
       "    </tr>\n",
       "    <tr>\n",
       "      <th>4</th>\n",
       "      <td>120.0</td>\n",
       "      <td>58.0</td>\n",
       "      <td>15.0</td>\n",
       "      <td>15.0</td>\n",
       "      <td>14.0</td>\n",
       "      <td>82.0</td>\n",
       "      <td>9.0</td>\n",
       "      <td>NaN</td>\n",
       "      <td>NaN</td>\n",
       "      <td>NaN</td>\n",
       "      <td>NaN</td>\n",
       "      <td>NaN</td>\n",
       "      <td>NaN</td>\n",
       "      <td>NaN</td>\n",
       "      <td>NaN</td>\n",
       "      <td>NaN</td>\n",
       "      <td>NaN</td>\n",
       "      <td>NaN</td>\n",
       "      <td>NaN</td>\n",
       "    </tr>\n",
       "    <tr>\n",
       "      <th>5</th>\n",
       "      <td>217.0</td>\n",
       "      <td>78.0</td>\n",
       "      <td>13.0</td>\n",
       "      <td>1.0</td>\n",
       "      <td>28.0</td>\n",
       "      <td>3.0</td>\n",
       "      <td>57.0</td>\n",
       "      <td>NaN</td>\n",
       "      <td>NaN</td>\n",
       "      <td>NaN</td>\n",
       "      <td>NaN</td>\n",
       "      <td>NaN</td>\n",
       "      <td>NaN</td>\n",
       "      <td>NaN</td>\n",
       "      <td>NaN</td>\n",
       "      <td>NaN</td>\n",
       "      <td>NaN</td>\n",
       "      <td>NaN</td>\n",
       "      <td>NaN</td>\n",
       "    </tr>\n",
       "    <tr>\n",
       "      <th>6</th>\n",
       "      <td>173.0</td>\n",
       "      <td>175.0</td>\n",
       "      <td>3.0</td>\n",
       "      <td>0.0</td>\n",
       "      <td>46.0</td>\n",
       "      <td>0.0</td>\n",
       "      <td>73.0</td>\n",
       "      <td>NaN</td>\n",
       "      <td>NaN</td>\n",
       "      <td>NaN</td>\n",
       "      <td>NaN</td>\n",
       "      <td>NaN</td>\n",
       "      <td>NaN</td>\n",
       "      <td>NaN</td>\n",
       "      <td>NaN</td>\n",
       "      <td>NaN</td>\n",
       "      <td>NaN</td>\n",
       "      <td>NaN</td>\n",
       "      <td>NaN</td>\n",
       "    </tr>\n",
       "    <tr>\n",
       "      <th>7</th>\n",
       "      <td>119.0</td>\n",
       "      <td>65.0</td>\n",
       "      <td>25.0</td>\n",
       "      <td>1.0</td>\n",
       "      <td>5.0</td>\n",
       "      <td>3.0</td>\n",
       "      <td>10.0</td>\n",
       "      <td>NaN</td>\n",
       "      <td>NaN</td>\n",
       "      <td>NaN</td>\n",
       "      <td>NaN</td>\n",
       "      <td>NaN</td>\n",
       "      <td>NaN</td>\n",
       "      <td>NaN</td>\n",
       "      <td>NaN</td>\n",
       "      <td>NaN</td>\n",
       "      <td>NaN</td>\n",
       "      <td>NaN</td>\n",
       "      <td>NaN</td>\n",
       "    </tr>\n",
       "    <tr>\n",
       "      <th>8</th>\n",
       "      <td>174.0</td>\n",
       "      <td>115.0</td>\n",
       "      <td>4.0</td>\n",
       "      <td>0.0</td>\n",
       "      <td>14.0</td>\n",
       "      <td>0.0</td>\n",
       "      <td>304.0</td>\n",
       "      <td>NaN</td>\n",
       "      <td>NaN</td>\n",
       "      <td>NaN</td>\n",
       "      <td>NaN</td>\n",
       "      <td>NaN</td>\n",
       "      <td>NaN</td>\n",
       "      <td>NaN</td>\n",
       "      <td>NaN</td>\n",
       "      <td>NaN</td>\n",
       "      <td>NaN</td>\n",
       "      <td>NaN</td>\n",
       "      <td>NaN</td>\n",
       "    </tr>\n",
       "    <tr>\n",
       "      <th>9</th>\n",
       "      <td>67.0</td>\n",
       "      <td>34.0</td>\n",
       "      <td>8.0</td>\n",
       "      <td>2.0</td>\n",
       "      <td>14.0</td>\n",
       "      <td>117.0</td>\n",
       "      <td>23.0</td>\n",
       "      <td>NaN</td>\n",
       "      <td>NaN</td>\n",
       "      <td>NaN</td>\n",
       "      <td>NaN</td>\n",
       "      <td>NaN</td>\n",
       "      <td>NaN</td>\n",
       "      <td>NaN</td>\n",
       "      <td>NaN</td>\n",
       "      <td>NaN</td>\n",
       "      <td>NaN</td>\n",
       "      <td>NaN</td>\n",
       "      <td>NaN</td>\n",
       "    </tr>\n",
       "  </tbody>\n",
       "</table>\n",
       "</div>"
      ],
      "text/plain": [
       "   LUNGES  BITES  ZIGZAGS  NEST  SPINES  DNEST   BOUT  Unnamed: 7  Unnamed: 8  \\\n",
       "0    79.0   25.0      0.0   0.0    15.0    0.0   45.0         NaN         NaN   \n",
       "1   136.0   58.0      6.0   0.0    15.0    0.0  148.0         NaN         NaN   \n",
       "2   115.0   30.0      2.0   1.0     9.0    5.0   29.0         NaN         NaN   \n",
       "3   129.0  139.0     16.0   0.0    22.0    0.0   69.0         NaN         NaN   \n",
       "4   120.0   58.0     15.0  15.0    14.0   82.0    9.0         NaN         NaN   \n",
       "5   217.0   78.0     13.0   1.0    28.0    3.0   57.0         NaN         NaN   \n",
       "6   173.0  175.0      3.0   0.0    46.0    0.0   73.0         NaN         NaN   \n",
       "7   119.0   65.0     25.0   1.0     5.0    3.0   10.0         NaN         NaN   \n",
       "8   174.0  115.0      4.0   0.0    14.0    0.0  304.0         NaN         NaN   \n",
       "9    67.0   34.0      8.0   2.0    14.0  117.0   23.0         NaN         NaN   \n",
       "\n",
       "   Unnamed: 9  Unnamed: 10  Unnamed: 11  Unnamed: 12  Unnamed: 13  \\\n",
       "0         NaN          NaN          NaN          NaN          NaN   \n",
       "1         NaN          NaN          NaN          NaN          NaN   \n",
       "2         NaN          NaN          NaN          NaN          NaN   \n",
       "3         NaN          NaN          NaN          NaN          NaN   \n",
       "4         NaN          NaN          NaN          NaN          NaN   \n",
       "5         NaN          NaN          NaN          NaN          NaN   \n",
       "6         NaN          NaN          NaN          NaN          NaN   \n",
       "7         NaN          NaN          NaN          NaN          NaN   \n",
       "8         NaN          NaN          NaN          NaN          NaN   \n",
       "9         NaN          NaN          NaN          NaN          NaN   \n",
       "\n",
       "   Unnamed: 14  Unnamed: 15  Unnamed: 16  Unnamed: 17  Unnamed: 18  \n",
       "0          NaN          NaN          NaN          NaN          NaN  \n",
       "1          NaN          NaN          NaN          NaN          NaN  \n",
       "2          NaN          NaN          NaN          NaN          NaN  \n",
       "3          NaN          NaN          NaN          NaN          NaN  \n",
       "4          NaN          NaN          NaN          NaN          NaN  \n",
       "5          NaN          NaN          NaN          NaN          NaN  \n",
       "6          NaN          NaN          NaN          NaN          NaN  \n",
       "7          NaN          NaN          NaN          NaN          NaN  \n",
       "8          NaN          NaN          NaN          NaN          NaN  \n",
       "9          NaN          NaN          NaN          NaN          NaN  "
      ]
     },
     "execution_count": 1,
     "metadata": {},
     "output_type": "execute_result"
    }
   ],
   "source": [
    "import pandas as pd\n",
    "import numpy as np\n",
    "import matplotlib.pyplot as plt\n",
    "from pandas.plotting import scatter_matrix\n",
    "url='https://raw.githubusercontent.com/kintis/HomeWork/main/stickleback.csv'\n",
    "df=pd.read_csv(url, sep=';', decimal=',')\n",
    "df.head(10)"
   ]
  },
  {
   "cell_type": "code",
   "execution_count": 2,
   "metadata": {},
   "outputs": [
    {
     "name": "stdout",
     "output_type": "stream",
     "text": [
      "<class 'pandas.core.frame.DataFrame'>\n",
      "RangeIndex: 54 entries, 0 to 53\n",
      "Data columns (total 19 columns):\n",
      " #   Column       Non-Null Count  Dtype  \n",
      "---  ------       --------------  -----  \n",
      " 0   LUNGES       54 non-null     float64\n",
      " 1   BITES        54 non-null     float64\n",
      " 2   ZIGZAGS      54 non-null     float64\n",
      " 3   NEST         54 non-null     float64\n",
      " 4   SPINES       54 non-null     float64\n",
      " 5   DNEST        54 non-null     float64\n",
      " 6   BOUT         54 non-null     float64\n",
      " 7   Unnamed: 7   0 non-null      float64\n",
      " 8   Unnamed: 8   0 non-null      float64\n",
      " 9   Unnamed: 9   0 non-null      float64\n",
      " 10  Unnamed: 10  0 non-null      float64\n",
      " 11  Unnamed: 11  0 non-null      float64\n",
      " 12  Unnamed: 12  0 non-null      float64\n",
      " 13  Unnamed: 13  0 non-null      float64\n",
      " 14  Unnamed: 14  0 non-null      float64\n",
      " 15  Unnamed: 15  0 non-null      float64\n",
      " 16  Unnamed: 16  0 non-null      float64\n",
      " 17  Unnamed: 17  0 non-null      float64\n",
      " 18  Unnamed: 18  0 non-null      float64\n",
      "dtypes: float64(19)\n",
      "memory usage: 8.1 KB\n"
     ]
    }
   ],
   "source": [
    "df.info()"
   ]
  },
  {
   "cell_type": "code",
   "execution_count": 3,
   "metadata": {},
   "outputs": [
    {
     "data": {
      "text/html": [
       "<div>\n",
       "<style scoped>\n",
       "    .dataframe tbody tr th:only-of-type {\n",
       "        vertical-align: middle;\n",
       "    }\n",
       "\n",
       "    .dataframe tbody tr th {\n",
       "        vertical-align: top;\n",
       "    }\n",
       "\n",
       "    .dataframe thead th {\n",
       "        text-align: right;\n",
       "    }\n",
       "</style>\n",
       "<table border=\"1\" class=\"dataframe\">\n",
       "  <thead>\n",
       "    <tr style=\"text-align: right;\">\n",
       "      <th></th>\n",
       "      <th>LUNGES</th>\n",
       "      <th>BITES</th>\n",
       "      <th>ZIGZAGS</th>\n",
       "      <th>NEST</th>\n",
       "      <th>SPINES</th>\n",
       "      <th>DNEST</th>\n",
       "      <th>BOUT</th>\n",
       "    </tr>\n",
       "  </thead>\n",
       "  <tbody>\n",
       "    <tr>\n",
       "      <th>0</th>\n",
       "      <td>79.0</td>\n",
       "      <td>25.0</td>\n",
       "      <td>0.0</td>\n",
       "      <td>0.0</td>\n",
       "      <td>15.0</td>\n",
       "      <td>0.0</td>\n",
       "      <td>45.0</td>\n",
       "    </tr>\n",
       "    <tr>\n",
       "      <th>1</th>\n",
       "      <td>136.0</td>\n",
       "      <td>58.0</td>\n",
       "      <td>6.0</td>\n",
       "      <td>0.0</td>\n",
       "      <td>15.0</td>\n",
       "      <td>0.0</td>\n",
       "      <td>148.0</td>\n",
       "    </tr>\n",
       "    <tr>\n",
       "      <th>2</th>\n",
       "      <td>115.0</td>\n",
       "      <td>30.0</td>\n",
       "      <td>2.0</td>\n",
       "      <td>1.0</td>\n",
       "      <td>9.0</td>\n",
       "      <td>5.0</td>\n",
       "      <td>29.0</td>\n",
       "    </tr>\n",
       "    <tr>\n",
       "      <th>3</th>\n",
       "      <td>129.0</td>\n",
       "      <td>139.0</td>\n",
       "      <td>16.0</td>\n",
       "      <td>0.0</td>\n",
       "      <td>22.0</td>\n",
       "      <td>0.0</td>\n",
       "      <td>69.0</td>\n",
       "    </tr>\n",
       "    <tr>\n",
       "      <th>4</th>\n",
       "      <td>120.0</td>\n",
       "      <td>58.0</td>\n",
       "      <td>15.0</td>\n",
       "      <td>15.0</td>\n",
       "      <td>14.0</td>\n",
       "      <td>82.0</td>\n",
       "      <td>9.0</td>\n",
       "    </tr>\n",
       "  </tbody>\n",
       "</table>\n",
       "</div>"
      ],
      "text/plain": [
       "   LUNGES  BITES  ZIGZAGS  NEST  SPINES  DNEST   BOUT\n",
       "0    79.0   25.0      0.0   0.0    15.0    0.0   45.0\n",
       "1   136.0   58.0      6.0   0.0    15.0    0.0  148.0\n",
       "2   115.0   30.0      2.0   1.0     9.0    5.0   29.0\n",
       "3   129.0  139.0     16.0   0.0    22.0    0.0   69.0\n",
       "4   120.0   58.0     15.0  15.0    14.0   82.0    9.0"
      ]
     },
     "execution_count": 3,
     "metadata": {},
     "output_type": "execute_result"
    }
   ],
   "source": [
    "df.drop(df.columns[7:], axis = 1, inplace=True)\n",
    "df.head()"
   ]
  },
  {
   "attachments": {},
   "cell_type": "markdown",
   "metadata": {},
   "source": [
    "4. Посмотрите на описательные статистики с помощью функции describe(). Прокомментируйте результат."
   ]
  },
  {
   "cell_type": "code",
   "execution_count": 4,
   "metadata": {},
   "outputs": [
    {
     "data": {
      "text/html": [
       "<div>\n",
       "<style scoped>\n",
       "    .dataframe tbody tr th:only-of-type {\n",
       "        vertical-align: middle;\n",
       "    }\n",
       "\n",
       "    .dataframe tbody tr th {\n",
       "        vertical-align: top;\n",
       "    }\n",
       "\n",
       "    .dataframe thead th {\n",
       "        text-align: right;\n",
       "    }\n",
       "</style>\n",
       "<table border=\"1\" class=\"dataframe\">\n",
       "  <thead>\n",
       "    <tr style=\"text-align: right;\">\n",
       "      <th></th>\n",
       "      <th>LUNGES</th>\n",
       "      <th>BITES</th>\n",
       "      <th>ZIGZAGS</th>\n",
       "      <th>NEST</th>\n",
       "      <th>SPINES</th>\n",
       "      <th>DNEST</th>\n",
       "      <th>BOUT</th>\n",
       "    </tr>\n",
       "  </thead>\n",
       "  <tbody>\n",
       "    <tr>\n",
       "      <th>count</th>\n",
       "      <td>54.000000</td>\n",
       "      <td>54.000000</td>\n",
       "      <td>54.000000</td>\n",
       "      <td>54.000000</td>\n",
       "      <td>54.000000</td>\n",
       "      <td>54.000000</td>\n",
       "      <td>54.000000</td>\n",
       "    </tr>\n",
       "    <tr>\n",
       "      <th>mean</th>\n",
       "      <td>131.185185</td>\n",
       "      <td>69.055556</td>\n",
       "      <td>7.277778</td>\n",
       "      <td>1.425926</td>\n",
       "      <td>18.425926</td>\n",
       "      <td>34.259259</td>\n",
       "      <td>89.314815</td>\n",
       "    </tr>\n",
       "    <tr>\n",
       "      <th>std</th>\n",
       "      <td>50.771064</td>\n",
       "      <td>43.428283</td>\n",
       "      <td>6.693891</td>\n",
       "      <td>3.000641</td>\n",
       "      <td>8.712606</td>\n",
       "      <td>56.491170</td>\n",
       "      <td>98.679742</td>\n",
       "    </tr>\n",
       "    <tr>\n",
       "      <th>min</th>\n",
       "      <td>41.000000</td>\n",
       "      <td>3.000000</td>\n",
       "      <td>0.000000</td>\n",
       "      <td>0.000000</td>\n",
       "      <td>5.000000</td>\n",
       "      <td>0.000000</td>\n",
       "      <td>6.000000</td>\n",
       "    </tr>\n",
       "    <tr>\n",
       "      <th>25%</th>\n",
       "      <td>99.000000</td>\n",
       "      <td>34.250000</td>\n",
       "      <td>2.250000</td>\n",
       "      <td>0.000000</td>\n",
       "      <td>14.000000</td>\n",
       "      <td>0.000000</td>\n",
       "      <td>23.500000</td>\n",
       "    </tr>\n",
       "    <tr>\n",
       "      <th>50%</th>\n",
       "      <td>127.000000</td>\n",
       "      <td>60.000000</td>\n",
       "      <td>5.000000</td>\n",
       "      <td>0.000000</td>\n",
       "      <td>16.000000</td>\n",
       "      <td>0.000000</td>\n",
       "      <td>45.000000</td>\n",
       "    </tr>\n",
       "    <tr>\n",
       "      <th>75%</th>\n",
       "      <td>156.750000</td>\n",
       "      <td>84.250000</td>\n",
       "      <td>10.750000</td>\n",
       "      <td>1.000000</td>\n",
       "      <td>24.750000</td>\n",
       "      <td>73.000000</td>\n",
       "      <td>125.000000</td>\n",
       "    </tr>\n",
       "    <tr>\n",
       "      <th>max</th>\n",
       "      <td>277.000000</td>\n",
       "      <td>175.000000</td>\n",
       "      <td>26.000000</td>\n",
       "      <td>15.000000</td>\n",
       "      <td>46.000000</td>\n",
       "      <td>199.000000</td>\n",
       "      <td>306.000000</td>\n",
       "    </tr>\n",
       "  </tbody>\n",
       "</table>\n",
       "</div>"
      ],
      "text/plain": [
       "           LUNGES       BITES    ZIGZAGS       NEST     SPINES       DNEST  \\\n",
       "count   54.000000   54.000000  54.000000  54.000000  54.000000   54.000000   \n",
       "mean   131.185185   69.055556   7.277778   1.425926  18.425926   34.259259   \n",
       "std     50.771064   43.428283   6.693891   3.000641   8.712606   56.491170   \n",
       "min     41.000000    3.000000   0.000000   0.000000   5.000000    0.000000   \n",
       "25%     99.000000   34.250000   2.250000   0.000000  14.000000    0.000000   \n",
       "50%    127.000000   60.000000   5.000000   0.000000  16.000000    0.000000   \n",
       "75%    156.750000   84.250000  10.750000   1.000000  24.750000   73.000000   \n",
       "max    277.000000  175.000000  26.000000  15.000000  46.000000  199.000000   \n",
       "\n",
       "             BOUT  \n",
       "count   54.000000  \n",
       "mean    89.314815  \n",
       "std     98.679742  \n",
       "min      6.000000  \n",
       "25%     23.500000  \n",
       "50%     45.000000  \n",
       "75%    125.000000  \n",
       "max    306.000000  "
      ]
     },
     "execution_count": 4,
     "metadata": {},
     "output_type": "execute_result"
    }
   ],
   "source": [
    "df.describe()"
   ]
  },
  {
   "attachments": {},
   "cell_type": "markdown",
   "metadata": {},
   "source": [
    "3.\tОчистите данные от шума с помощью функции filter(regex='^(?!.*Unnamed).*$'). Посмотрите на первые 5 наблюдений с помощью функции head()."
   ]
  },
  {
   "cell_type": "code",
   "execution_count": 5,
   "metadata": {},
   "outputs": [
    {
     "data": {
      "text/html": [
       "<div>\n",
       "<style scoped>\n",
       "    .dataframe tbody tr th:only-of-type {\n",
       "        vertical-align: middle;\n",
       "    }\n",
       "\n",
       "    .dataframe tbody tr th {\n",
       "        vertical-align: top;\n",
       "    }\n",
       "\n",
       "    .dataframe thead th {\n",
       "        text-align: right;\n",
       "    }\n",
       "</style>\n",
       "<table border=\"1\" class=\"dataframe\">\n",
       "  <thead>\n",
       "    <tr style=\"text-align: right;\">\n",
       "      <th></th>\n",
       "      <th>LUNGES</th>\n",
       "      <th>BITES</th>\n",
       "      <th>ZIGZAGS</th>\n",
       "      <th>NEST</th>\n",
       "      <th>SPINES</th>\n",
       "      <th>DNEST</th>\n",
       "      <th>BOUT</th>\n",
       "    </tr>\n",
       "  </thead>\n",
       "  <tbody>\n",
       "    <tr>\n",
       "      <th>0</th>\n",
       "      <td>79.0</td>\n",
       "      <td>25.0</td>\n",
       "      <td>0.0</td>\n",
       "      <td>0.0</td>\n",
       "      <td>15.0</td>\n",
       "      <td>0.0</td>\n",
       "      <td>45.0</td>\n",
       "    </tr>\n",
       "    <tr>\n",
       "      <th>1</th>\n",
       "      <td>136.0</td>\n",
       "      <td>58.0</td>\n",
       "      <td>6.0</td>\n",
       "      <td>0.0</td>\n",
       "      <td>15.0</td>\n",
       "      <td>0.0</td>\n",
       "      <td>148.0</td>\n",
       "    </tr>\n",
       "    <tr>\n",
       "      <th>2</th>\n",
       "      <td>115.0</td>\n",
       "      <td>30.0</td>\n",
       "      <td>2.0</td>\n",
       "      <td>1.0</td>\n",
       "      <td>9.0</td>\n",
       "      <td>5.0</td>\n",
       "      <td>29.0</td>\n",
       "    </tr>\n",
       "    <tr>\n",
       "      <th>3</th>\n",
       "      <td>129.0</td>\n",
       "      <td>139.0</td>\n",
       "      <td>16.0</td>\n",
       "      <td>0.0</td>\n",
       "      <td>22.0</td>\n",
       "      <td>0.0</td>\n",
       "      <td>69.0</td>\n",
       "    </tr>\n",
       "    <tr>\n",
       "      <th>4</th>\n",
       "      <td>120.0</td>\n",
       "      <td>58.0</td>\n",
       "      <td>15.0</td>\n",
       "      <td>15.0</td>\n",
       "      <td>14.0</td>\n",
       "      <td>82.0</td>\n",
       "      <td>9.0</td>\n",
       "    </tr>\n",
       "  </tbody>\n",
       "</table>\n",
       "</div>"
      ],
      "text/plain": [
       "   LUNGES  BITES  ZIGZAGS  NEST  SPINES  DNEST   BOUT\n",
       "0    79.0   25.0      0.0   0.0    15.0    0.0   45.0\n",
       "1   136.0   58.0      6.0   0.0    15.0    0.0  148.0\n",
       "2   115.0   30.0      2.0   1.0     9.0    5.0   29.0\n",
       "3   129.0  139.0     16.0   0.0    22.0    0.0   69.0\n",
       "4   120.0   58.0     15.0  15.0    14.0   82.0    9.0"
      ]
     },
     "execution_count": 5,
     "metadata": {},
     "output_type": "execute_result"
    }
   ],
   "source": [
    "# через регулярные выражения\n",
    "df1=df.filter(regex='^(?!.*Unnamed).*$')\n",
    "df1.head()"
   ]
  },
  {
   "attachments": {},
   "cell_type": "markdown",
   "metadata": {},
   "source": [
    "5.\tВыведите на экран корреляционную матрицу с помощью функции corr(). Прокомментируйте результат."
   ]
  },
  {
   "cell_type": "code",
   "execution_count": 6,
   "metadata": {},
   "outputs": [
    {
     "data": {
      "text/html": [
       "<div>\n",
       "<style scoped>\n",
       "    .dataframe tbody tr th:only-of-type {\n",
       "        vertical-align: middle;\n",
       "    }\n",
       "\n",
       "    .dataframe tbody tr th {\n",
       "        vertical-align: top;\n",
       "    }\n",
       "\n",
       "    .dataframe thead th {\n",
       "        text-align: right;\n",
       "    }\n",
       "</style>\n",
       "<table border=\"1\" class=\"dataframe\">\n",
       "  <thead>\n",
       "    <tr style=\"text-align: right;\">\n",
       "      <th></th>\n",
       "      <th>LUNGES</th>\n",
       "      <th>BITES</th>\n",
       "      <th>ZIGZAGS</th>\n",
       "      <th>NEST</th>\n",
       "      <th>SPINES</th>\n",
       "      <th>DNEST</th>\n",
       "      <th>BOUT</th>\n",
       "    </tr>\n",
       "  </thead>\n",
       "  <tbody>\n",
       "    <tr>\n",
       "      <th>LUNGES</th>\n",
       "      <td>1.000000</td>\n",
       "      <td>0.688077</td>\n",
       "      <td>-0.139336</td>\n",
       "      <td>-0.164133</td>\n",
       "      <td>0.055567</td>\n",
       "      <td>-0.228568</td>\n",
       "      <td>0.233314</td>\n",
       "    </tr>\n",
       "    <tr>\n",
       "      <th>BITES</th>\n",
       "      <td>0.688077</td>\n",
       "      <td>1.000000</td>\n",
       "      <td>-0.042761</td>\n",
       "      <td>-0.148884</td>\n",
       "      <td>0.373382</td>\n",
       "      <td>-0.217563</td>\n",
       "      <td>0.117316</td>\n",
       "    </tr>\n",
       "    <tr>\n",
       "      <th>ZIGZAGS</th>\n",
       "      <td>-0.139336</td>\n",
       "      <td>-0.042761</td>\n",
       "      <td>1.000000</td>\n",
       "      <td>0.351894</td>\n",
       "      <td>0.067813</td>\n",
       "      <td>0.091315</td>\n",
       "      <td>-0.160693</td>\n",
       "    </tr>\n",
       "    <tr>\n",
       "      <th>NEST</th>\n",
       "      <td>-0.164133</td>\n",
       "      <td>-0.148884</td>\n",
       "      <td>0.351894</td>\n",
       "      <td>1.000000</td>\n",
       "      <td>-0.052538</td>\n",
       "      <td>0.514028</td>\n",
       "      <td>-0.305876</td>\n",
       "    </tr>\n",
       "    <tr>\n",
       "      <th>SPINES</th>\n",
       "      <td>0.055567</td>\n",
       "      <td>0.373382</td>\n",
       "      <td>0.067813</td>\n",
       "      <td>-0.052538</td>\n",
       "      <td>1.000000</td>\n",
       "      <td>-0.051099</td>\n",
       "      <td>-0.041483</td>\n",
       "    </tr>\n",
       "    <tr>\n",
       "      <th>DNEST</th>\n",
       "      <td>-0.228568</td>\n",
       "      <td>-0.217563</td>\n",
       "      <td>0.091315</td>\n",
       "      <td>0.514028</td>\n",
       "      <td>-0.051099</td>\n",
       "      <td>1.000000</td>\n",
       "      <td>-0.242177</td>\n",
       "    </tr>\n",
       "    <tr>\n",
       "      <th>BOUT</th>\n",
       "      <td>0.233314</td>\n",
       "      <td>0.117316</td>\n",
       "      <td>-0.160693</td>\n",
       "      <td>-0.305876</td>\n",
       "      <td>-0.041483</td>\n",
       "      <td>-0.242177</td>\n",
       "      <td>1.000000</td>\n",
       "    </tr>\n",
       "  </tbody>\n",
       "</table>\n",
       "</div>"
      ],
      "text/plain": [
       "           LUNGES     BITES   ZIGZAGS      NEST    SPINES     DNEST      BOUT\n",
       "LUNGES   1.000000  0.688077 -0.139336 -0.164133  0.055567 -0.228568  0.233314\n",
       "BITES    0.688077  1.000000 -0.042761 -0.148884  0.373382 -0.217563  0.117316\n",
       "ZIGZAGS -0.139336 -0.042761  1.000000  0.351894  0.067813  0.091315 -0.160693\n",
       "NEST    -0.164133 -0.148884  0.351894  1.000000 -0.052538  0.514028 -0.305876\n",
       "SPINES   0.055567  0.373382  0.067813 -0.052538  1.000000 -0.051099 -0.041483\n",
       "DNEST   -0.228568 -0.217563  0.091315  0.514028 -0.051099  1.000000 -0.242177\n",
       "BOUT     0.233314  0.117316 -0.160693 -0.305876 -0.041483 -0.242177  1.000000"
      ]
     },
     "execution_count": 6,
     "metadata": {},
     "output_type": "execute_result"
    }
   ],
   "source": [
    "df.corr(method='pearson')"
   ]
  },
  {
   "attachments": {},
   "cell_type": "markdown",
   "metadata": {},
   "source": [
    "<span style=\"color:red\"> Высокая корреляция (>0.7): BITES/LUNGES, средняя корреляция(0.5<>0.7): DNEST/NEST </span>"
   ]
  },
  {
   "cell_type": "code",
   "execution_count": 7,
   "metadata": {},
   "outputs": [
    {
     "data": {
      "text/html": [
       "<div>\n",
       "<style scoped>\n",
       "    .dataframe tbody tr th:only-of-type {\n",
       "        vertical-align: middle;\n",
       "    }\n",
       "\n",
       "    .dataframe tbody tr th {\n",
       "        vertical-align: top;\n",
       "    }\n",
       "\n",
       "    .dataframe thead th {\n",
       "        text-align: right;\n",
       "    }\n",
       "</style>\n",
       "<table border=\"1\" class=\"dataframe\">\n",
       "  <thead>\n",
       "    <tr style=\"text-align: right;\">\n",
       "      <th></th>\n",
       "      <th>LUNGES</th>\n",
       "      <th>BITES</th>\n",
       "      <th>ZIGZAGS</th>\n",
       "      <th>NEST</th>\n",
       "      <th>SPINES</th>\n",
       "      <th>DNEST</th>\n",
       "      <th>BOUT</th>\n",
       "    </tr>\n",
       "  </thead>\n",
       "  <tbody>\n",
       "    <tr>\n",
       "      <th>LUNGES</th>\n",
       "      <td>1.000000</td>\n",
       "      <td>0.722750</td>\n",
       "      <td>-0.097846</td>\n",
       "      <td>-0.271688</td>\n",
       "      <td>0.014659</td>\n",
       "      <td>-0.183202</td>\n",
       "      <td>0.381924</td>\n",
       "    </tr>\n",
       "    <tr>\n",
       "      <th>BITES</th>\n",
       "      <td>0.722750</td>\n",
       "      <td>1.000000</td>\n",
       "      <td>0.063954</td>\n",
       "      <td>-0.195497</td>\n",
       "      <td>0.303657</td>\n",
       "      <td>-0.166533</td>\n",
       "      <td>0.370321</td>\n",
       "    </tr>\n",
       "    <tr>\n",
       "      <th>ZIGZAGS</th>\n",
       "      <td>-0.097846</td>\n",
       "      <td>0.063954</td>\n",
       "      <td>1.000000</td>\n",
       "      <td>0.287995</td>\n",
       "      <td>0.234507</td>\n",
       "      <td>0.137072</td>\n",
       "      <td>-0.109295</td>\n",
       "    </tr>\n",
       "    <tr>\n",
       "      <th>NEST</th>\n",
       "      <td>-0.271688</td>\n",
       "      <td>-0.195497</td>\n",
       "      <td>0.287995</td>\n",
       "      <td>1.000000</td>\n",
       "      <td>-0.064098</td>\n",
       "      <td>0.909418</td>\n",
       "      <td>-0.582824</td>\n",
       "    </tr>\n",
       "    <tr>\n",
       "      <th>SPINES</th>\n",
       "      <td>0.014659</td>\n",
       "      <td>0.303657</td>\n",
       "      <td>0.234507</td>\n",
       "      <td>-0.064098</td>\n",
       "      <td>1.000000</td>\n",
       "      <td>-0.085893</td>\n",
       "      <td>0.157634</td>\n",
       "    </tr>\n",
       "    <tr>\n",
       "      <th>DNEST</th>\n",
       "      <td>-0.183202</td>\n",
       "      <td>-0.166533</td>\n",
       "      <td>0.137072</td>\n",
       "      <td>0.909418</td>\n",
       "      <td>-0.085893</td>\n",
       "      <td>1.000000</td>\n",
       "      <td>-0.433587</td>\n",
       "    </tr>\n",
       "    <tr>\n",
       "      <th>BOUT</th>\n",
       "      <td>0.381924</td>\n",
       "      <td>0.370321</td>\n",
       "      <td>-0.109295</td>\n",
       "      <td>-0.582824</td>\n",
       "      <td>0.157634</td>\n",
       "      <td>-0.433587</td>\n",
       "      <td>1.000000</td>\n",
       "    </tr>\n",
       "  </tbody>\n",
       "</table>\n",
       "</div>"
      ],
      "text/plain": [
       "           LUNGES     BITES   ZIGZAGS      NEST    SPINES     DNEST      BOUT\n",
       "LUNGES   1.000000  0.722750 -0.097846 -0.271688  0.014659 -0.183202  0.381924\n",
       "BITES    0.722750  1.000000  0.063954 -0.195497  0.303657 -0.166533  0.370321\n",
       "ZIGZAGS -0.097846  0.063954  1.000000  0.287995  0.234507  0.137072 -0.109295\n",
       "NEST    -0.271688 -0.195497  0.287995  1.000000 -0.064098  0.909418 -0.582824\n",
       "SPINES   0.014659  0.303657  0.234507 -0.064098  1.000000 -0.085893  0.157634\n",
       "DNEST   -0.183202 -0.166533  0.137072  0.909418 -0.085893  1.000000 -0.433587\n",
       "BOUT     0.381924  0.370321 -0.109295 -0.582824  0.157634 -0.433587  1.000000"
      ]
     },
     "execution_count": 7,
     "metadata": {},
     "output_type": "execute_result"
    }
   ],
   "source": [
    "df.corr(method='spearman')"
   ]
  },
  {
   "attachments": {},
   "cell_type": "markdown",
   "metadata": {},
   "source": [
    "<span style=\"color:red\"> Если применить коэффициент Спирмана, то высокая корреляция (>0.7): BITES/LUNGES, DNEST/NEST средняя корреляция(0.5<>0.7): BOUT/NEST </span>\n"
   ]
  },
  {
   "attachments": {},
   "cell_type": "markdown",
   "metadata": {},
   "source": [
    "6.\tВыведите на экран диаграмму рассеяния с помощью функции scatter_matrix() из модуля pandas.plotting. Сделайте вывод о нормальности распределения признаков, о наличии взаимосвязей между ними."
   ]
  },
  {
   "cell_type": "code",
   "execution_count": 8,
   "metadata": {},
   "outputs": [
    {
     "data": {
      "image/png": "[encoded data removed]",
      "text/plain": [
       "<Figure size 1000x1000 with 49 Axes>"
      ]
     },
     "metadata": {},
     "output_type": "display_data"
    }
   ],
   "source": [
    "scatter_matrix(df, alpha = 0.7, figsize=(10,10))\n",
    "plt.show()"
   ]
  },
  {
   "attachments": {},
   "cell_type": "markdown",
   "metadata": {},
   "source": [
    "<span style=\"color:red\"> Визуально корреляция признаков прослеживается у BITES/LUNGES.</span>\n"
   ]
  },
  {
   "attachments": {},
   "cell_type": "markdown",
   "metadata": {},
   "source": [
    "7.\tРассчитайте критерий сферичности Бартлетта с помощью функции calculate_bartlett_sphericity() из модуля factor_analyzer пакета factor_analyzer. Сделайте вывод о надежности отличия корреляционной матрицы от единичной."
   ]
  },
  {
   "cell_type": "code",
   "execution_count": 9,
   "metadata": {},
   "outputs": [
    {
     "data": {
      "text/plain": [
       "(78.65570932525837, 1.3528985212723955e-08)"
      ]
     },
     "execution_count": 9,
     "metadata": {},
     "output_type": "execute_result"
    }
   ],
   "source": [
    "from factor_analyzer.factor_analyzer import calculate_bartlett_sphericity\n",
    "fa=calculate_bartlett_sphericity(df)\n",
    "fa"
   ]
  },
  {
   "attachments": {},
   "cell_type": "markdown",
   "metadata": {},
   "source": [
    "<span style=\"color:red\"> p_value<<0.05 -> H0 о том, что матрица корреляций является единичной, отклоняется. Так как Н0 отклоняется, то не все признаки уникальны и можно какие-то 'отбросить'.</span>"
   ]
  },
  {
   "attachments": {},
   "cell_type": "markdown",
   "metadata": {},
   "source": [
    "8.\tРассчитайте меру адекватности выборки Кайзера-Мейера-Олкина индивидуально для каждой переменной (kmo_all) и в целом для модели (kmo_model) с помощью функции calculate_kmo() из модуля factor_analyzer пакета factor_analyzer. Прокомментируйте результат."
   ]
  },
  {
   "cell_type": "code",
   "execution_count": 10,
   "metadata": {},
   "outputs": [
    {
     "data": {
      "text/plain": [
       "(array([0.5045225 , 0.49499775, 0.54613696, 0.5818407 , 0.3460975 ,\n",
       "        0.62519322, 0.76803628]),\n",
       " 0.536090482930058)"
      ]
     },
     "execution_count": 10,
     "metadata": {},
     "output_type": "execute_result"
    }
   ],
   "source": [
    "from factor_analyzer.factor_analyzer import calculate_kmo\n",
    "kmo_per_item, kmo_total = calculate_kmo(df)\n",
    "kmo_per_item, kmo_total"
   ]
  },
  {
   "attachments": {},
   "cell_type": "markdown",
   "metadata": {},
   "source": [
    "<span style=\"color:red\"> КМО>0.5 -> с помощью факторного анализа можно уменьшить размерность.</span>"
   ]
  },
  {
   "attachments": {},
   "cell_type": "markdown",
   "metadata": {},
   "source": [
    "Раздел 2. Выделение первоначальных факторов методом главных компонент"
   ]
  },
  {
   "attachments": {},
   "cell_type": "markdown",
   "metadata": {},
   "source": [
    "9.\tСтандартизируйте переменные с помощью функции scale() из модуля preprocessing пакета sklearn. Посмотрите на первые 5 наблюдений."
   ]
  },
  {
   "cell_type": "code",
   "execution_count": 15,
   "metadata": {},
   "outputs": [
    {
     "data": {
      "text/plain": [
       "array([[-1.03750432, -1.02396939, -1.09743575, -0.47966932, -0.39690707,\n",
       "        -0.61214787, -0.4532939 ],\n",
       "       [ 0.09572432, -0.25696079, -0.19267956, -0.47966932, -0.39690707,\n",
       "        -0.61214787,  0.60028766],\n",
       "       [-0.32178097, -0.90775596, -0.79585035, -0.14327785, -1.09203081,\n",
       "        -0.52280737, -0.61695706],\n",
       "       [-0.04344411,  1.62569667,  1.31524742, -0.47966932,  0.41407062,\n",
       "        -0.61214787, -0.20779917],\n",
       "       [-0.22237495, -0.25696079,  1.16445472,  4.56620276, -0.51276103,\n",
       "         0.85303633, -0.82153601]])"
      ]
     },
     "execution_count": 15,
     "metadata": {},
     "output_type": "execute_result"
    }
   ],
   "source": [
    "from sklearn.preprocessing import scale\n",
    "df_scaled = scale(df)\n",
    "df_scaled[:5]\n"
   ]
  },
  {
   "attachments": {},
   "cell_type": "markdown",
   "metadata": {},
   "source": [
    "10.\tСоздайте объект метода главных компонент с помощью функции PCA(). Задайте при этом число компонент, равное числу признаков.\n",
    "11.\tОбучите объект на стандартизированных данных, воспользовавшись функцией fit()."
   ]
  },
  {
   "cell_type": "code",
   "execution_count": 16,
   "metadata": {},
   "outputs": [],
   "source": [
    "from sklearn.decomposition import PCA\n",
    "pca=PCA(n_components=7)\n",
    "model=pca.fit(df_scaled)\n",
    "\n",
    "\n"
   ]
  },
  {
   "attachments": {},
   "cell_type": "markdown",
   "metadata": {},
   "source": [
    "12.\tПопробуйте отобрать компоненты, используя критерий Кайзера. Собственные числа можно вывести на экран, обратившись к параметру explained_variance_. Прокомментируйте результат."
   ]
  },
  {
   "cell_type": "code",
   "execution_count": 17,
   "metadata": {},
   "outputs": [
    {
     "name": "stdout",
     "output_type": "stream",
     "text": [
      "[2.33131423 1.48167964 0.99758804 0.90279779 0.76745194 0.41244602\n",
      " 0.2387978 ]\n"
     ]
    }
   ],
   "source": [
    "print(pca.explained_variance_)"
   ]
  },
  {
   "attachments": {},
   "cell_type": "markdown",
   "metadata": {},
   "source": [
    "<span style=\"color:red\"> смотрим, чтобы собственные числа были больше 1. Можно сотавить 3 фактора.</span>"
   ]
  },
  {
   "attachments": {},
   "cell_type": "markdown",
   "metadata": {},
   "source": [
    "13.\tВоспользуйтесь методом определения числа факторов на основе суммарной доли объясненной дисперсии. Объясненную дисперсию можно вывести на экран, обратившись к параметру explained_variance_ratio_. Прокомментируйте результат."
   ]
  },
  {
   "cell_type": "code",
   "execution_count": 19,
   "metadata": {},
   "outputs": [
    {
     "name": "stdout",
     "output_type": "stream",
     "text": [
      "[0.32687739 0.20774873 0.13987346 0.12658276 0.1076057  0.05782973\n",
      " 0.03348223]\n"
     ]
    }
   ],
   "source": [
    "print(pca.explained_variance_ratio_)"
   ]
  },
  {
   "attachments": {},
   "cell_type": "markdown",
   "metadata": {},
   "source": [
    "14.\tЗапишите предполагаемое число факторов на основе полученных результатов."
   ]
  },
  {
   "attachments": {},
   "cell_type": "markdown",
   "metadata": {},
   "source": [
    "<span style=\"color:red\"> 3 фактора</span>"
   ]
  },
  {
   "attachments": {},
   "cell_type": "markdown",
   "metadata": {},
   "source": [
    "Раздел 3. Факторный анализ"
   ]
  },
  {
   "attachments": {},
   "cell_type": "markdown",
   "metadata": {},
   "source": [
    "15.\tСоздайте модель для проведения факторного анализа, воспользовавшись функцией FactorAnalyzer() из пакета factor_analyzer.\n",
    "16.\tОбучите модель на стандартизированных данных, воспользовавшись функцией fit().\n",
    "17.\tНа основе созданной модели вычислите собственные числа (eigen_values) и собственные вектора (vectors), обратившись к функции get_eigenvalues().\n",
    "18.\tВоспользуйтесь правилом Кайзера для определения числа факторов. Запишите предполагаемое число факторов.\n"
   ]
  },
  {
   "cell_type": "code",
   "execution_count": 23,
   "metadata": {},
   "outputs": [
    {
     "data": {
      "text/html": [
       "<style>#sk-container-id-3 {color: black;background-color: white;}#sk-container-id-3 pre{padding: 0;}#sk-container-id-3 div.sk-toggleable {background-color: white;}#sk-container-id-3 label.sk-toggleable__label {cursor: pointer;display: block;width: 100%;margin-bottom: 0;padding: 0.3em;box-sizing: border-box;text-align: center;}#sk-container-id-3 label.sk-toggleable__label-arrow:before {content: \"▸\";float: left;margin-right: 0.25em;color: #696969;}#sk-container-id-3 label.sk-toggleable__label-arrow:hover:before {color: black;}#sk-container-id-3 div.sk-estimator:hover label.sk-toggleable__label-arrow:before {color: black;}#sk-container-id-3 div.sk-toggleable__content {max-height: 0;max-width: 0;overflow: hidden;text-align: left;background-color: #f0f8ff;}#sk-container-id-3 div.sk-toggleable__content pre {margin: 0.2em;color: black;border-radius: 0.25em;background-color: #f0f8ff;}#sk-container-id-3 input.sk-toggleable__control:checked~div.sk-toggleable__content {max-height: 200px;max-width: 100%;overflow: auto;}#sk-container-id-3 input.sk-toggleable__control:checked~label.sk-toggleable__label-arrow:before {content: \"▾\";}#sk-container-id-3 div.sk-estimator input.sk-toggleable__control:checked~label.sk-toggleable__label {background-color: #d4ebff;}#sk-container-id-3 div.sk-label input.sk-toggleable__control:checked~label.sk-toggleable__label {background-color: #d4ebff;}#sk-container-id-3 input.sk-hidden--visually {border: 0;clip: rect(1px 1px 1px 1px);clip: rect(1px, 1px, 1px, 1px);height: 1px;margin: -1px;overflow: hidden;padding: 0;position: absolute;width: 1px;}#sk-container-id-3 div.sk-estimator {font-family: monospace;background-color: #f0f8ff;border: 1px dotted black;border-radius: 0.25em;box-sizing: border-box;margin-bottom: 0.5em;}#sk-container-id-3 div.sk-estimator:hover {background-color: #d4ebff;}#sk-container-id-3 div.sk-parallel-item::after {content: \"\";width: 100%;border-bottom: 1px solid gray;flex-grow: 1;}#sk-container-id-3 div.sk-label:hover label.sk-toggleable__label {background-color: #d4ebff;}#sk-container-id-3 div.sk-serial::before {content: \"\";position: absolute;border-left: 1px solid gray;box-sizing: border-box;top: 0;bottom: 0;left: 50%;z-index: 0;}#sk-container-id-3 div.sk-serial {display: flex;flex-direction: column;align-items: center;background-color: white;padding-right: 0.2em;padding-left: 0.2em;position: relative;}#sk-container-id-3 div.sk-item {position: relative;z-index: 1;}#sk-container-id-3 div.sk-parallel {display: flex;align-items: stretch;justify-content: center;background-color: white;position: relative;}#sk-container-id-3 div.sk-item::before, #sk-container-id-3 div.sk-parallel-item::before {content: \"\";position: absolute;border-left: 1px solid gray;box-sizing: border-box;top: 0;bottom: 0;left: 50%;z-index: -1;}#sk-container-id-3 div.sk-parallel-item {display: flex;flex-direction: column;z-index: 1;position: relative;background-color: white;}#sk-container-id-3 div.sk-parallel-item:first-child::after {align-self: flex-end;width: 50%;}#sk-container-id-3 div.sk-parallel-item:last-child::after {align-self: flex-start;width: 50%;}#sk-container-id-3 div.sk-parallel-item:only-child::after {width: 0;}#sk-container-id-3 div.sk-dashed-wrapped {border: 1px dashed gray;margin: 0 0.4em 0.5em 0.4em;box-sizing: border-box;padding-bottom: 0.4em;background-color: white;}#sk-container-id-3 div.sk-label label {font-family: monospace;font-weight: bold;display: inline-block;line-height: 1.2em;}#sk-container-id-3 div.sk-label-container {text-align: center;}#sk-container-id-3 div.sk-container {/* jupyter's `normalize.less` sets `[hidden] { display: none; }` but bootstrap.min.css set `[hidden] { display: none !important; }` so we also need the `!important` here to be able to override the default hidden behavior on the sphinx rendered scikit-learn.org. See: https://github.com/scikit-learn/scikit-learn/issues/21755 */display: inline-block !important;position: relative;}#sk-container-id-3 div.sk-text-repr-fallback {display: none;}</style><div id=\"sk-container-id-3\" class=\"sk-top-container\"><div class=\"sk-text-repr-fallback\"><pre>FactorAnalyzer(impute=&#x27;drop&#x27;, n_factors=7, rotation=None, rotation_kwargs={})</pre><b>In a Jupyter environment, please rerun this cell to show the HTML representation or trust the notebook. <br />On GitHub, the HTML representation is unable to render, please try loading this page with nbviewer.org.</b></div><div class=\"sk-container\" hidden><div class=\"sk-item\"><div class=\"sk-estimator sk-toggleable\"><input class=\"sk-toggleable__control sk-hidden--visually\" id=\"sk-estimator-id-3\" type=\"checkbox\" checked><label for=\"sk-estimator-id-3\" class=\"sk-toggleable__label sk-toggleable__label-arrow\">FactorAnalyzer</label><div class=\"sk-toggleable__content\"><pre>FactorAnalyzer(impute=&#x27;drop&#x27;, n_factors=7, rotation=None, rotation_kwargs={})</pre></div></div></div></div></div>"
      ],
      "text/plain": [
       "FactorAnalyzer(impute='drop', n_factors=7, rotation=None, rotation_kwargs={})"
      ]
     },
     "execution_count": 23,
     "metadata": {},
     "output_type": "execute_result"
    }
   ],
   "source": [
    "from factor_analyzer import FactorAnalyzer\n",
    "fa=FactorAnalyzer(rotation=None, impute=\"drop\", n_factors=df_scaled.shape[1])\n",
    "fa.fit(df_scaled)"
   ]
  },
  {
   "cell_type": "code",
   "execution_count": 24,
   "metadata": {},
   "outputs": [
    {
     "data": {
      "text/plain": [
       "(array([2.28814174, 1.45424113, 0.97911419, 0.88607931, 0.75323987,\n",
       "        0.40480813, 0.23437562]),\n",
       " array([ 1.97661710e+00,  1.10022922e+00,  5.02900919e-01,  2.99529717e-01,\n",
       "         6.50201309e-02,  6.23927305e-04, -2.38978993e-07]))"
      ]
     },
     "execution_count": 24,
     "metadata": {},
     "output_type": "execute_result"
    }
   ],
   "source": [
    "\n",
    "ev, _= fa.get_eigenvalues()\n",
    "ev, _"
   ]
  },
  {
   "attachments": {},
   "cell_type": "markdown",
   "metadata": {},
   "source": [
    "<span style=\"color:red\"> 2-3 фактора, ориентируясь, что собственные значения должны быть больше 1</span>"
   ]
  },
  {
   "attachments": {},
   "cell_type": "markdown",
   "metadata": {},
   "source": [
    "19.\tВоспользуйтесь методом Кеттелла для определения числа факторов. Для этого постройте каменистую осыпь, обратившись к функциям scatter(range(1,df_scaled.shape[1]+1),eigen_values), plot(range(1,df_scaled.shape[1]+1),eigen_values), title('Scree Plot'), xlabel('Factors'), ylabel('Eigenvalue'), grid() и show() из модуля matplotlib.pyplot, к которому удобно обращаться через сокращенное имя plt. Сделайте предположение о возможном числе факторов."
   ]
  },
  {
   "cell_type": "code",
   "execution_count": 25,
   "metadata": {},
   "outputs": [
    {
     "data": {
      "image/png": "[encoded data removed]",
      "text/plain": [
       "<Figure size 640x480 with 1 Axes>"
      ]
     },
     "metadata": {},
     "output_type": "display_data"
    }
   ],
   "source": [
    "plt.scatter(range(1,df_scaled.shape[1]+1),ev)\n",
    "plt.plot(range(1,df_scaled.shape[1]+1),ev)\n",
    "plt.title('Scree Plot')\n",
    "plt.xlabel('Factors')\n",
    "plt.ylabel('Eigenvalue')\n",
    "plt.grid()\n",
    "plt.show()"
   ]
  },
  {
   "attachments": {},
   "cell_type": "markdown",
   "metadata": {},
   "source": [
    "<span style=\"color:red\"> возможное число факторов - 2, смотрим, чтобы собственное число было больше 1.</span>"
   ]
  },
  {
   "attachments": {},
   "cell_type": "markdown",
   "metadata": {},
   "source": [
    "20.\tПроведите факторный анализ с указанным числом факторов (n_factors). Для этого задайте параметры созданной в п. 15 модели, обратившись к функции set_params(n_factors= n_factors, rotation='varimax'). Затем обучите на стандартизированных данных созданную модель, обратившись к функции fit()."
   ]
  },
  {
   "cell_type": "code",
   "execution_count": 63,
   "metadata": {},
   "outputs": [
    {
     "data": {
      "text/html": [
       "<style>#sk-container-id-17 {color: black;background-color: white;}#sk-container-id-17 pre{padding: 0;}#sk-container-id-17 div.sk-toggleable {background-color: white;}#sk-container-id-17 label.sk-toggleable__label {cursor: pointer;display: block;width: 100%;margin-bottom: 0;padding: 0.3em;box-sizing: border-box;text-align: center;}#sk-container-id-17 label.sk-toggleable__label-arrow:before {content: \"▸\";float: left;margin-right: 0.25em;color: #696969;}#sk-container-id-17 label.sk-toggleable__label-arrow:hover:before {color: black;}#sk-container-id-17 div.sk-estimator:hover label.sk-toggleable__label-arrow:before {color: black;}#sk-container-id-17 div.sk-toggleable__content {max-height: 0;max-width: 0;overflow: hidden;text-align: left;background-color: #f0f8ff;}#sk-container-id-17 div.sk-toggleable__content pre {margin: 0.2em;color: black;border-radius: 0.25em;background-color: #f0f8ff;}#sk-container-id-17 input.sk-toggleable__control:checked~div.sk-toggleable__content {max-height: 200px;max-width: 100%;overflow: auto;}#sk-container-id-17 input.sk-toggleable__control:checked~label.sk-toggleable__label-arrow:before {content: \"▾\";}#sk-container-id-17 div.sk-estimator input.sk-toggleable__control:checked~label.sk-toggleable__label {background-color: #d4ebff;}#sk-container-id-17 div.sk-label input.sk-toggleable__control:checked~label.sk-toggleable__label {background-color: #d4ebff;}#sk-container-id-17 input.sk-hidden--visually {border: 0;clip: rect(1px 1px 1px 1px);clip: rect(1px, 1px, 1px, 1px);height: 1px;margin: -1px;overflow: hidden;padding: 0;position: absolute;width: 1px;}#sk-container-id-17 div.sk-estimator {font-family: monospace;background-color: #f0f8ff;border: 1px dotted black;border-radius: 0.25em;box-sizing: border-box;margin-bottom: 0.5em;}#sk-container-id-17 div.sk-estimator:hover {background-color: #d4ebff;}#sk-container-id-17 div.sk-parallel-item::after {content: \"\";width: 100%;border-bottom: 1px solid gray;flex-grow: 1;}#sk-container-id-17 div.sk-label:hover label.sk-toggleable__label {background-color: #d4ebff;}#sk-container-id-17 div.sk-serial::before {content: \"\";position: absolute;border-left: 1px solid gray;box-sizing: border-box;top: 0;bottom: 0;left: 50%;z-index: 0;}#sk-container-id-17 div.sk-serial {display: flex;flex-direction: column;align-items: center;background-color: white;padding-right: 0.2em;padding-left: 0.2em;position: relative;}#sk-container-id-17 div.sk-item {position: relative;z-index: 1;}#sk-container-id-17 div.sk-parallel {display: flex;align-items: stretch;justify-content: center;background-color: white;position: relative;}#sk-container-id-17 div.sk-item::before, #sk-container-id-17 div.sk-parallel-item::before {content: \"\";position: absolute;border-left: 1px solid gray;box-sizing: border-box;top: 0;bottom: 0;left: 50%;z-index: -1;}#sk-container-id-17 div.sk-parallel-item {display: flex;flex-direction: column;z-index: 1;position: relative;background-color: white;}#sk-container-id-17 div.sk-parallel-item:first-child::after {align-self: flex-end;width: 50%;}#sk-container-id-17 div.sk-parallel-item:last-child::after {align-self: flex-start;width: 50%;}#sk-container-id-17 div.sk-parallel-item:only-child::after {width: 0;}#sk-container-id-17 div.sk-dashed-wrapped {border: 1px dashed gray;margin: 0 0.4em 0.5em 0.4em;box-sizing: border-box;padding-bottom: 0.4em;background-color: white;}#sk-container-id-17 div.sk-label label {font-family: monospace;font-weight: bold;display: inline-block;line-height: 1.2em;}#sk-container-id-17 div.sk-label-container {text-align: center;}#sk-container-id-17 div.sk-container {/* jupyter's `normalize.less` sets `[hidden] { display: none; }` but bootstrap.min.css set `[hidden] { display: none !important; }` so we also need the `!important` here to be able to override the default hidden behavior on the sphinx rendered scikit-learn.org. See: https://github.com/scikit-learn/scikit-learn/issues/21755 */display: inline-block !important;position: relative;}#sk-container-id-17 div.sk-text-repr-fallback {display: none;}</style><div id=\"sk-container-id-17\" class=\"sk-top-container\"><div class=\"sk-text-repr-fallback\"><pre>FactorAnalyzer(impute=&#x27;drop&#x27;, n_factors=2, rotation=&#x27;varimax&#x27;,\n",
       "               rotation_kwargs={})</pre><b>In a Jupyter environment, please rerun this cell to show the HTML representation or trust the notebook. <br />On GitHub, the HTML representation is unable to render, please try loading this page with nbviewer.org.</b></div><div class=\"sk-container\" hidden><div class=\"sk-item\"><div class=\"sk-estimator sk-toggleable\"><input class=\"sk-toggleable__control sk-hidden--visually\" id=\"sk-estimator-id-17\" type=\"checkbox\" checked><label for=\"sk-estimator-id-17\" class=\"sk-toggleable__label sk-toggleable__label-arrow\">FactorAnalyzer</label><div class=\"sk-toggleable__content\"><pre>FactorAnalyzer(impute=&#x27;drop&#x27;, n_factors=2, rotation=&#x27;varimax&#x27;,\n",
       "               rotation_kwargs={})</pre></div></div></div></div></div>"
      ],
      "text/plain": [
       "FactorAnalyzer(impute='drop', n_factors=2, rotation='varimax',\n",
       "               rotation_kwargs={})"
      ]
     },
     "execution_count": 63,
     "metadata": {},
     "output_type": "execute_result"
    }
   ],
   "source": [
    "# 2 фактора\n",
    "fa_2=FactorAnalyzer(rotation='varimax', impute=\"drop\", n_factors=2)\n",
    "fa_2.fit(df_scaled)"
   ]
  },
  {
   "attachments": {},
   "cell_type": "markdown",
   "metadata": {},
   "source": [
    "21.\tВыведите на экран факторную структуру (матрицу факторных нагрузок). Для этого создайте таблицу данных с помощью функции DataFrame() из модуля pandas. Элементы таблицы возьмите из параметра loadings_. Названиям столбцов присвойте имена 'factor1' и т.д. Названия строк возьмите из названий столбцов исходных данных. Прокомментируйте результат, дайте название факторам."
   ]
  },
  {
   "cell_type": "code",
   "execution_count": 64,
   "metadata": {},
   "outputs": [
    {
     "name": "stdout",
     "output_type": "stream",
     "text": [
      "          factor1   factor2\n",
      "LUNGES   0.623123 -0.242540\n",
      "BITES    1.007741 -0.128163\n",
      "ZIGZAGS  0.000196  0.355506\n",
      "NEST    -0.015454  0.894196\n",
      "SPINES   0.294315  0.018574\n",
      "DNEST   -0.155512  0.536576\n",
      "BOUT     0.099458 -0.384636\n"
     ]
    }
   ],
   "source": [
    "print(pd.DataFrame(fa_2.loadings_, index=df.columns, columns=['factor1', 'factor2']))\n"
   ]
  },
  {
   "cell_type": "code",
   "execution_count": 65,
   "metadata": {},
   "outputs": [
    {
     "name": "stdout",
     "output_type": "stream",
     "text": [
      "                   factor1   factor2\n",
      "Variance          1.524760  1.437427\n",
      "Proportional Var  0.217823  0.205347\n",
      "Cumulative Var    0.217823  0.423170\n"
     ]
    }
   ],
   "source": [
    "print(pd.DataFrame(fa_2.get_factor_variance(),index=['Variance','Proportional Var','Cumulative Var'], columns=['factor1', 'factor2']))"
   ]
  },
  {
   "attachments": {},
   "cell_type": "markdown",
   "metadata": {},
   "source": [
    "<span style=\"color:red\"> накопленная дисперсия cumulative var=0.42, что не очень много. Стоит рассмотреть вариант увеличения количества факторных признаков.</span>"
   ]
  },
  {
   "cell_type": "code",
   "execution_count": 66,
   "metadata": {},
   "outputs": [
    {
     "name": "stdout",
     "output_type": "stream",
     "text": [
      "         Communalities\n",
      "LUNGES        0.447108\n",
      "BITES         1.031968\n",
      "ZIGZAGS       0.126384\n",
      "NEST          0.799826\n",
      "SPINES        0.086966\n",
      "DNEST         0.312098\n",
      "BOUT          0.157837\n"
     ]
    }
   ],
   "source": [
    "print(pd.DataFrame(fa_2.get_communalities(),index=df.columns,columns=['Communalities']))"
   ]
  },
  {
   "attachments": {},
   "cell_type": "markdown",
   "metadata": {},
   "source": [
    "22. Попробуйте провести факторный анализ с другим количеством факторов. Сделайте окончательный вывод о числе факторов и их названии."
   ]
  },
  {
   "cell_type": "code",
   "execution_count": 68,
   "metadata": {},
   "outputs": [
    {
     "data": {
      "text/html": [
       "<div>\n",
       "<style scoped>\n",
       "    .dataframe tbody tr th:only-of-type {\n",
       "        vertical-align: middle;\n",
       "    }\n",
       "\n",
       "    .dataframe tbody tr th {\n",
       "        vertical-align: top;\n",
       "    }\n",
       "\n",
       "    .dataframe thead th {\n",
       "        text-align: right;\n",
       "    }\n",
       "</style>\n",
       "<table border=\"1\" class=\"dataframe\">\n",
       "  <thead>\n",
       "    <tr style=\"text-align: right;\">\n",
       "      <th></th>\n",
       "      <th>factor1</th>\n",
       "      <th>factor2</th>\n",
       "    </tr>\n",
       "  </thead>\n",
       "  <tbody>\n",
       "    <tr>\n",
       "      <th>0</th>\n",
       "      <td>-1.056267</td>\n",
       "      <td>-0.414067</td>\n",
       "    </tr>\n",
       "    <tr>\n",
       "      <th>1</th>\n",
       "      <td>-0.312892</td>\n",
       "      <td>-0.554501</td>\n",
       "    </tr>\n",
       "    <tr>\n",
       "      <th>2</th>\n",
       "      <td>-0.914928</td>\n",
       "      <td>-0.217825</td>\n",
       "    </tr>\n",
       "    <tr>\n",
       "      <th>3</th>\n",
       "      <td>1.815168</td>\n",
       "      <td>-0.179745</td>\n",
       "    </tr>\n",
       "    <tr>\n",
       "      <th>4</th>\n",
       "      <td>0.413355</td>\n",
       "      <td>3.843151</td>\n",
       "    </tr>\n",
       "  </tbody>\n",
       "</table>\n",
       "</div>"
      ],
      "text/plain": [
       "    factor1   factor2\n",
       "0 -1.056267 -0.414067\n",
       "1 -0.312892 -0.554501\n",
       "2 -0.914928 -0.217825\n",
       "3  1.815168 -0.179745\n",
       "4  0.413355  3.843151"
      ]
     },
     "execution_count": 68,
     "metadata": {},
     "output_type": "execute_result"
    }
   ],
   "source": [
    "scores_2=pd.DataFrame(fa_2.fit_transform(df_scaled), columns=['factor1', 'factor2'])\n",
    "scores_2.head()"
   ]
  },
  {
   "cell_type": "code",
   "execution_count": 69,
   "metadata": {},
   "outputs": [
    {
     "data": {
      "text/html": [
       "<div>\n",
       "<style scoped>\n",
       "    .dataframe tbody tr th:only-of-type {\n",
       "        vertical-align: middle;\n",
       "    }\n",
       "\n",
       "    .dataframe tbody tr th {\n",
       "        vertical-align: top;\n",
       "    }\n",
       "\n",
       "    .dataframe thead th {\n",
       "        text-align: right;\n",
       "    }\n",
       "</style>\n",
       "<table border=\"1\" class=\"dataframe\">\n",
       "  <thead>\n",
       "    <tr style=\"text-align: right;\">\n",
       "      <th></th>\n",
       "      <th>factor1</th>\n",
       "      <th>factor2</th>\n",
       "    </tr>\n",
       "  </thead>\n",
       "  <tbody>\n",
       "    <tr>\n",
       "      <th>factor1</th>\n",
       "      <td>1.000000</td>\n",
       "      <td>-0.004571</td>\n",
       "    </tr>\n",
       "    <tr>\n",
       "      <th>factor2</th>\n",
       "      <td>-0.004571</td>\n",
       "      <td>1.000000</td>\n",
       "    </tr>\n",
       "  </tbody>\n",
       "</table>\n",
       "</div>"
      ],
      "text/plain": [
       "          factor1   factor2\n",
       "factor1  1.000000 -0.004571\n",
       "factor2 -0.004571  1.000000"
      ]
     },
     "execution_count": 69,
     "metadata": {},
     "output_type": "execute_result"
    }
   ],
   "source": [
    "scores_2.corr()"
   ]
  },
  {
   "cell_type": "code",
   "execution_count": 70,
   "metadata": {},
   "outputs": [
    {
     "data": {
      "text/html": [
       "<style>#sk-container-id-18 {color: black;background-color: white;}#sk-container-id-18 pre{padding: 0;}#sk-container-id-18 div.sk-toggleable {background-color: white;}#sk-container-id-18 label.sk-toggleable__label {cursor: pointer;display: block;width: 100%;margin-bottom: 0;padding: 0.3em;box-sizing: border-box;text-align: center;}#sk-container-id-18 label.sk-toggleable__label-arrow:before {content: \"▸\";float: left;margin-right: 0.25em;color: #696969;}#sk-container-id-18 label.sk-toggleable__label-arrow:hover:before {color: black;}#sk-container-id-18 div.sk-estimator:hover label.sk-toggleable__label-arrow:before {color: black;}#sk-container-id-18 div.sk-toggleable__content {max-height: 0;max-width: 0;overflow: hidden;text-align: left;background-color: #f0f8ff;}#sk-container-id-18 div.sk-toggleable__content pre {margin: 0.2em;color: black;border-radius: 0.25em;background-color: #f0f8ff;}#sk-container-id-18 input.sk-toggleable__control:checked~div.sk-toggleable__content {max-height: 200px;max-width: 100%;overflow: auto;}#sk-container-id-18 input.sk-toggleable__control:checked~label.sk-toggleable__label-arrow:before {content: \"▾\";}#sk-container-id-18 div.sk-estimator input.sk-toggleable__control:checked~label.sk-toggleable__label {background-color: #d4ebff;}#sk-container-id-18 div.sk-label input.sk-toggleable__control:checked~label.sk-toggleable__label {background-color: #d4ebff;}#sk-container-id-18 input.sk-hidden--visually {border: 0;clip: rect(1px 1px 1px 1px);clip: rect(1px, 1px, 1px, 1px);height: 1px;margin: -1px;overflow: hidden;padding: 0;position: absolute;width: 1px;}#sk-container-id-18 div.sk-estimator {font-family: monospace;background-color: #f0f8ff;border: 1px dotted black;border-radius: 0.25em;box-sizing: border-box;margin-bottom: 0.5em;}#sk-container-id-18 div.sk-estimator:hover {background-color: #d4ebff;}#sk-container-id-18 div.sk-parallel-item::after {content: \"\";width: 100%;border-bottom: 1px solid gray;flex-grow: 1;}#sk-container-id-18 div.sk-label:hover label.sk-toggleable__label {background-color: #d4ebff;}#sk-container-id-18 div.sk-serial::before {content: \"\";position: absolute;border-left: 1px solid gray;box-sizing: border-box;top: 0;bottom: 0;left: 50%;z-index: 0;}#sk-container-id-18 div.sk-serial {display: flex;flex-direction: column;align-items: center;background-color: white;padding-right: 0.2em;padding-left: 0.2em;position: relative;}#sk-container-id-18 div.sk-item {position: relative;z-index: 1;}#sk-container-id-18 div.sk-parallel {display: flex;align-items: stretch;justify-content: center;background-color: white;position: relative;}#sk-container-id-18 div.sk-item::before, #sk-container-id-18 div.sk-parallel-item::before {content: \"\";position: absolute;border-left: 1px solid gray;box-sizing: border-box;top: 0;bottom: 0;left: 50%;z-index: -1;}#sk-container-id-18 div.sk-parallel-item {display: flex;flex-direction: column;z-index: 1;position: relative;background-color: white;}#sk-container-id-18 div.sk-parallel-item:first-child::after {align-self: flex-end;width: 50%;}#sk-container-id-18 div.sk-parallel-item:last-child::after {align-self: flex-start;width: 50%;}#sk-container-id-18 div.sk-parallel-item:only-child::after {width: 0;}#sk-container-id-18 div.sk-dashed-wrapped {border: 1px dashed gray;margin: 0 0.4em 0.5em 0.4em;box-sizing: border-box;padding-bottom: 0.4em;background-color: white;}#sk-container-id-18 div.sk-label label {font-family: monospace;font-weight: bold;display: inline-block;line-height: 1.2em;}#sk-container-id-18 div.sk-label-container {text-align: center;}#sk-container-id-18 div.sk-container {/* jupyter's `normalize.less` sets `[hidden] { display: none; }` but bootstrap.min.css set `[hidden] { display: none !important; }` so we also need the `!important` here to be able to override the default hidden behavior on the sphinx rendered scikit-learn.org. See: https://github.com/scikit-learn/scikit-learn/issues/21755 */display: inline-block !important;position: relative;}#sk-container-id-18 div.sk-text-repr-fallback {display: none;}</style><div id=\"sk-container-id-18\" class=\"sk-top-container\"><div class=\"sk-text-repr-fallback\"><pre>FactorAnalyzer(impute=&#x27;drop&#x27;, rotation=&#x27;varimax&#x27;, rotation_kwargs={})</pre><b>In a Jupyter environment, please rerun this cell to show the HTML representation or trust the notebook. <br />On GitHub, the HTML representation is unable to render, please try loading this page with nbviewer.org.</b></div><div class=\"sk-container\" hidden><div class=\"sk-item\"><div class=\"sk-estimator sk-toggleable\"><input class=\"sk-toggleable__control sk-hidden--visually\" id=\"sk-estimator-id-18\" type=\"checkbox\" checked><label for=\"sk-estimator-id-18\" class=\"sk-toggleable__label sk-toggleable__label-arrow\">FactorAnalyzer</label><div class=\"sk-toggleable__content\"><pre>FactorAnalyzer(impute=&#x27;drop&#x27;, rotation=&#x27;varimax&#x27;, rotation_kwargs={})</pre></div></div></div></div></div>"
      ],
      "text/plain": [
       "FactorAnalyzer(impute='drop', rotation='varimax', rotation_kwargs={})"
      ]
     },
     "execution_count": 70,
     "metadata": {},
     "output_type": "execute_result"
    }
   ],
   "source": [
    "# 3 фактора\n",
    "fa_3=FactorAnalyzer(rotation='varimax', impute=\"drop\", n_factors=3)\n",
    "fa_3.fit(df_scaled)\n"
   ]
  },
  {
   "cell_type": "code",
   "execution_count": 71,
   "metadata": {},
   "outputs": [
    {
     "name": "stdout",
     "output_type": "stream",
     "text": [
      "          factor1   factor2   factor3\n",
      "LUNGES  -0.213815  0.876088  0.022384\n",
      "BITES   -0.110001  0.742419  0.588652\n",
      "ZIGZAGS  0.342123 -0.076383  0.107402\n",
      "NEST     0.989281  0.058242 -0.141253\n",
      "SPINES   0.025750  0.057196  0.564226\n",
      "DNEST    0.501341 -0.134760 -0.111540\n",
      "BOUT    -0.359746  0.185878 -0.089865\n"
     ]
    }
   ],
   "source": [
    "print(pd.DataFrame(fa_3.loadings_, index=df.columns, columns=['factor1', 'factor2', 'factor3']))"
   ]
  },
  {
   "cell_type": "code",
   "execution_count": 73,
   "metadata": {},
   "outputs": [
    {
     "name": "stdout",
     "output_type": "stream",
     "text": [
      "                   factor1   factor2   factor3\n",
      "Variance          1.534964  1.383924  0.717368\n",
      "Proportional Var  0.219281  0.197703  0.102481\n",
      "Cumulative Var    0.219281  0.416984  0.519465\n"
     ]
    }
   ],
   "source": [
    "print(pd.DataFrame(fa_3.get_factor_variance(),index=['Variance','Proportional Var','Cumulative Var'], columns=['factor1', 'factor2', 'factor3']))"
   ]
  },
  {
   "cell_type": "code",
   "execution_count": 74,
   "metadata": {},
   "outputs": [
    {
     "name": "stdout",
     "output_type": "stream",
     "text": [
      "         Communalities\n",
      "LUNGES        0.813747\n",
      "BITES         0.909797\n",
      "ZIGZAGS       0.134418\n",
      "NEST          1.002021\n",
      "SPINES        0.322285\n",
      "DNEST         0.281944\n",
      "BOUT          0.172044\n"
     ]
    }
   ],
   "source": [
    "print(pd.DataFrame(fa_3.get_communalities(),index=df.columns,columns=['Communalities']))"
   ]
  },
  {
   "cell_type": "code",
   "execution_count": 75,
   "metadata": {},
   "outputs": [
    {
     "data": {
      "text/html": [
       "<div>\n",
       "<style scoped>\n",
       "    .dataframe tbody tr th:only-of-type {\n",
       "        vertical-align: middle;\n",
       "    }\n",
       "\n",
       "    .dataframe tbody tr th {\n",
       "        vertical-align: top;\n",
       "    }\n",
       "\n",
       "    .dataframe thead th {\n",
       "        text-align: right;\n",
       "    }\n",
       "</style>\n",
       "<table border=\"1\" class=\"dataframe\">\n",
       "  <thead>\n",
       "    <tr style=\"text-align: right;\">\n",
       "      <th></th>\n",
       "      <th>factor1</th>\n",
       "      <th>factor2</th>\n",
       "      <th>factor3</th>\n",
       "    </tr>\n",
       "  </thead>\n",
       "  <tbody>\n",
       "    <tr>\n",
       "      <th>0</th>\n",
       "      <td>-0.408115</td>\n",
       "      <td>-1.085631</td>\n",
       "      <td>-0.389292</td>\n",
       "    </tr>\n",
       "    <tr>\n",
       "      <th>1</th>\n",
       "      <td>-0.543282</td>\n",
       "      <td>-0.055818</td>\n",
       "      <td>-0.383780</td>\n",
       "    </tr>\n",
       "    <tr>\n",
       "      <th>2</th>\n",
       "      <td>-0.184006</td>\n",
       "      <td>-0.446107</td>\n",
       "      <td>-0.900993</td>\n",
       "    </tr>\n",
       "    <tr>\n",
       "      <th>3</th>\n",
       "      <td>-0.294362</td>\n",
       "      <td>0.321699</td>\n",
       "      <td>1.801099</td>\n",
       "    </tr>\n",
       "    <tr>\n",
       "      <th>4</th>\n",
       "      <td>4.502197</td>\n",
       "      <td>0.880367</td>\n",
       "      <td>-0.745598</td>\n",
       "    </tr>\n",
       "  </tbody>\n",
       "</table>\n",
       "</div>"
      ],
      "text/plain": [
       "    factor1   factor2   factor3\n",
       "0 -0.408115 -1.085631 -0.389292\n",
       "1 -0.543282 -0.055818 -0.383780\n",
       "2 -0.184006 -0.446107 -0.900993\n",
       "3 -0.294362  0.321699  1.801099\n",
       "4  4.502197  0.880367 -0.745598"
      ]
     },
     "execution_count": 75,
     "metadata": {},
     "output_type": "execute_result"
    }
   ],
   "source": [
    "scores_3=pd.DataFrame(fa_3.fit_transform(df_scaled), columns=['factor1', 'factor2', 'factor3'])\n",
    "scores_3.head()"
   ]
  },
  {
   "cell_type": "code",
   "execution_count": 76,
   "metadata": {},
   "outputs": [
    {
     "data": {
      "text/html": [
       "<div>\n",
       "<style scoped>\n",
       "    .dataframe tbody tr th:only-of-type {\n",
       "        vertical-align: middle;\n",
       "    }\n",
       "\n",
       "    .dataframe tbody tr th {\n",
       "        vertical-align: top;\n",
       "    }\n",
       "\n",
       "    .dataframe thead th {\n",
       "        text-align: right;\n",
       "    }\n",
       "</style>\n",
       "<table border=\"1\" class=\"dataframe\">\n",
       "  <thead>\n",
       "    <tr style=\"text-align: right;\">\n",
       "      <th></th>\n",
       "      <th>factor1</th>\n",
       "      <th>factor2</th>\n",
       "      <th>factor3</th>\n",
       "    </tr>\n",
       "  </thead>\n",
       "  <tbody>\n",
       "    <tr>\n",
       "      <th>factor1</th>\n",
       "      <td>1.000000</td>\n",
       "      <td>0.029053</td>\n",
       "      <td>-0.062402</td>\n",
       "    </tr>\n",
       "    <tr>\n",
       "      <th>factor2</th>\n",
       "      <td>0.029053</td>\n",
       "      <td>1.000000</td>\n",
       "      <td>0.160403</td>\n",
       "    </tr>\n",
       "    <tr>\n",
       "      <th>factor3</th>\n",
       "      <td>-0.062402</td>\n",
       "      <td>0.160403</td>\n",
       "      <td>1.000000</td>\n",
       "    </tr>\n",
       "  </tbody>\n",
       "</table>\n",
       "</div>"
      ],
      "text/plain": [
       "          factor1   factor2   factor3\n",
       "factor1  1.000000  0.029053 -0.062402\n",
       "factor2  0.029053  1.000000  0.160403\n",
       "factor3 -0.062402  0.160403  1.000000"
      ]
     },
     "execution_count": 76,
     "metadata": {},
     "output_type": "execute_result"
    }
   ],
   "source": [
    "scores_3.corr()"
   ]
  },
  {
   "cell_type": "code",
   "execution_count": 77,
   "metadata": {},
   "outputs": [
    {
     "data": {
      "text/html": [
       "<style>#sk-container-id-19 {color: black;background-color: white;}#sk-container-id-19 pre{padding: 0;}#sk-container-id-19 div.sk-toggleable {background-color: white;}#sk-container-id-19 label.sk-toggleable__label {cursor: pointer;display: block;width: 100%;margin-bottom: 0;padding: 0.3em;box-sizing: border-box;text-align: center;}#sk-container-id-19 label.sk-toggleable__label-arrow:before {content: \"▸\";float: left;margin-right: 0.25em;color: #696969;}#sk-container-id-19 label.sk-toggleable__label-arrow:hover:before {color: black;}#sk-container-id-19 div.sk-estimator:hover label.sk-toggleable__label-arrow:before {color: black;}#sk-container-id-19 div.sk-toggleable__content {max-height: 0;max-width: 0;overflow: hidden;text-align: left;background-color: #f0f8ff;}#sk-container-id-19 div.sk-toggleable__content pre {margin: 0.2em;color: black;border-radius: 0.25em;background-color: #f0f8ff;}#sk-container-id-19 input.sk-toggleable__control:checked~div.sk-toggleable__content {max-height: 200px;max-width: 100%;overflow: auto;}#sk-container-id-19 input.sk-toggleable__control:checked~label.sk-toggleable__label-arrow:before {content: \"▾\";}#sk-container-id-19 div.sk-estimator input.sk-toggleable__control:checked~label.sk-toggleable__label {background-color: #d4ebff;}#sk-container-id-19 div.sk-label input.sk-toggleable__control:checked~label.sk-toggleable__label {background-color: #d4ebff;}#sk-container-id-19 input.sk-hidden--visually {border: 0;clip: rect(1px 1px 1px 1px);clip: rect(1px, 1px, 1px, 1px);height: 1px;margin: -1px;overflow: hidden;padding: 0;position: absolute;width: 1px;}#sk-container-id-19 div.sk-estimator {font-family: monospace;background-color: #f0f8ff;border: 1px dotted black;border-radius: 0.25em;box-sizing: border-box;margin-bottom: 0.5em;}#sk-container-id-19 div.sk-estimator:hover {background-color: #d4ebff;}#sk-container-id-19 div.sk-parallel-item::after {content: \"\";width: 100%;border-bottom: 1px solid gray;flex-grow: 1;}#sk-container-id-19 div.sk-label:hover label.sk-toggleable__label {background-color: #d4ebff;}#sk-container-id-19 div.sk-serial::before {content: \"\";position: absolute;border-left: 1px solid gray;box-sizing: border-box;top: 0;bottom: 0;left: 50%;z-index: 0;}#sk-container-id-19 div.sk-serial {display: flex;flex-direction: column;align-items: center;background-color: white;padding-right: 0.2em;padding-left: 0.2em;position: relative;}#sk-container-id-19 div.sk-item {position: relative;z-index: 1;}#sk-container-id-19 div.sk-parallel {display: flex;align-items: stretch;justify-content: center;background-color: white;position: relative;}#sk-container-id-19 div.sk-item::before, #sk-container-id-19 div.sk-parallel-item::before {content: \"\";position: absolute;border-left: 1px solid gray;box-sizing: border-box;top: 0;bottom: 0;left: 50%;z-index: -1;}#sk-container-id-19 div.sk-parallel-item {display: flex;flex-direction: column;z-index: 1;position: relative;background-color: white;}#sk-container-id-19 div.sk-parallel-item:first-child::after {align-self: flex-end;width: 50%;}#sk-container-id-19 div.sk-parallel-item:last-child::after {align-self: flex-start;width: 50%;}#sk-container-id-19 div.sk-parallel-item:only-child::after {width: 0;}#sk-container-id-19 div.sk-dashed-wrapped {border: 1px dashed gray;margin: 0 0.4em 0.5em 0.4em;box-sizing: border-box;padding-bottom: 0.4em;background-color: white;}#sk-container-id-19 div.sk-label label {font-family: monospace;font-weight: bold;display: inline-block;line-height: 1.2em;}#sk-container-id-19 div.sk-label-container {text-align: center;}#sk-container-id-19 div.sk-container {/* jupyter's `normalize.less` sets `[hidden] { display: none; }` but bootstrap.min.css set `[hidden] { display: none !important; }` so we also need the `!important` here to be able to override the default hidden behavior on the sphinx rendered scikit-learn.org. See: https://github.com/scikit-learn/scikit-learn/issues/21755 */display: inline-block !important;position: relative;}#sk-container-id-19 div.sk-text-repr-fallback {display: none;}</style><div id=\"sk-container-id-19\" class=\"sk-top-container\"><div class=\"sk-text-repr-fallback\"><pre>FactorAnalyzer(impute=&#x27;drop&#x27;, n_factors=4, rotation=&#x27;varimax&#x27;,\n",
       "               rotation_kwargs={})</pre><b>In a Jupyter environment, please rerun this cell to show the HTML representation or trust the notebook. <br />On GitHub, the HTML representation is unable to render, please try loading this page with nbviewer.org.</b></div><div class=\"sk-container\" hidden><div class=\"sk-item\"><div class=\"sk-estimator sk-toggleable\"><input class=\"sk-toggleable__control sk-hidden--visually\" id=\"sk-estimator-id-19\" type=\"checkbox\" checked><label for=\"sk-estimator-id-19\" class=\"sk-toggleable__label sk-toggleable__label-arrow\">FactorAnalyzer</label><div class=\"sk-toggleable__content\"><pre>FactorAnalyzer(impute=&#x27;drop&#x27;, n_factors=4, rotation=&#x27;varimax&#x27;,\n",
       "               rotation_kwargs={})</pre></div></div></div></div></div>"
      ],
      "text/plain": [
       "FactorAnalyzer(impute='drop', n_factors=4, rotation='varimax',\n",
       "               rotation_kwargs={})"
      ]
     },
     "execution_count": 77,
     "metadata": {},
     "output_type": "execute_result"
    }
   ],
   "source": [
    "# 4 фактора\n",
    "fa_4=FactorAnalyzer(rotation='varimax', impute=\"drop\", n_factors=4)\n",
    "fa_4.fit(df_scaled)"
   ]
  },
  {
   "attachments": {},
   "cell_type": "markdown",
   "metadata": {},
   "source": [
    "23.\tВыведите на экран общность (часть дисперсии переменной, объясненной факторами), обратившись к функции get_communalities(). Прокомментируйте результат."
   ]
  },
  {
   "cell_type": "code",
   "execution_count": 78,
   "metadata": {},
   "outputs": [
    {
     "name": "stdout",
     "output_type": "stream",
     "text": [
      "                   factor1   factor2   factor3   factor4\n",
      "Variance          1.342983  1.282196  1.015991  0.736471\n",
      "Proportional Var  0.191855  0.183171  0.145142  0.105210\n",
      "Cumulative Var    0.191855  0.375026  0.520167  0.625377\n"
     ]
    }
   ],
   "source": [
    "print(pd.DataFrame(fa_4.get_factor_variance(),index=['Variance','Proportional Var','Cumulative Var'], columns=['factor1', 'factor2', 'factor3', 'factor4']))"
   ]
  },
  {
   "attachments": {},
   "cell_type": "markdown",
   "metadata": {},
   "source": [
    "<span style=\"color:red\"> накопленная дисперсия cumulative var=0.625, что лучше по сравнению с 3 факторами. Попробуем 5 факторов и сравним с текущим результатом.</span>"
   ]
  },
  {
   "cell_type": "code",
   "execution_count": 79,
   "metadata": {},
   "outputs": [
    {
     "name": "stdout",
     "output_type": "stream",
     "text": [
      "         Communalities\n",
      "LUNGES        0.779025\n",
      "BITES         0.995405\n",
      "ZIGZAGS       0.995030\n",
      "NEST          0.735995\n",
      "SPINES        0.277040\n",
      "DNEST         0.410271\n",
      "BOUT          0.184876\n"
     ]
    }
   ],
   "source": [
    "print(pd.DataFrame(fa_4.get_communalities(),index=df.columns,columns=['Communalities']))"
   ]
  },
  {
   "attachments": {},
   "cell_type": "markdown",
   "metadata": {},
   "source": [
    "24. Выведите на экран уникальность (часть дисперсии переменной, объясненной уникальными факторами), обратившись к функции get_uniquenesses(). Прокомментируйте результат."
   ]
  },
  {
   "cell_type": "code",
   "execution_count": 80,
   "metadata": {},
   "outputs": [
    {
     "name": "stdout",
     "output_type": "stream",
     "text": [
      "         Uniquenesses\n",
      "LUNGES       0.220975\n",
      "BITES        0.004595\n",
      "ZIGZAGS      0.004970\n",
      "NEST         0.264005\n",
      "SPINES       0.722960\n",
      "DNEST        0.589729\n",
      "BOUT         0.815124\n"
     ]
    }
   ],
   "source": [
    "print(pd.DataFrame(fa_4.get_uniquenesses(),index=df.columns,columns=['Uniquenesses']))"
   ]
  },
  {
   "attachments": {},
   "cell_type": "markdown",
   "metadata": {},
   "source": [
    "25.\tВыведите на экран таблицу, содержащую сведения о факторных нагрузках, доли дисперсии, объясненной каждым фактором, и кумулятивной доли объясненной факторами дисперсии. Для этого создайте таблицу данных с помощью функции DataFrame() из модуля pandas. Элементы таблицы рассчитайте с помощью функции get_factor_variance(). Названиям столбцов присвойте имена 'factor1' и т.д. Названия строк задайте списком ['SS Loadings', 'Proportion Var', 'Cumulative Var']. Прокомментируйте результат."
   ]
  },
  {
   "cell_type": "code",
   "execution_count": 81,
   "metadata": {},
   "outputs": [
    {
     "name": "stdout",
     "output_type": "stream",
     "text": [
      "                   factor1   factor2   factor3   factor4\n",
      "SS Loadings       1.342983  1.282196  1.015991  0.736471\n",
      "Proportional Var  0.191855  0.183171  0.145142  0.105210\n",
      "Cumulative Var    0.191855  0.375026  0.520167  0.625377\n"
     ]
    }
   ],
   "source": [
    "print(pd.DataFrame(fa_4.get_factor_variance(),index=['SS Loadings','Proportional Var','Cumulative Var'], columns=['factor1', 'factor2', 'factor3', 'factor4']))"
   ]
  },
  {
   "attachments": {},
   "cell_type": "markdown",
   "metadata": {},
   "source": [
    "26.\tРассчитайте значения факторов на основе стандартизированных данных, воспользовавшись функцией fit_transform(). Результат представьте в виде таблицы, в названии столбцов которой содержится указание на номер фактора. Выведите на экран первые 5 строк."
   ]
  },
  {
   "cell_type": "code",
   "execution_count": 83,
   "metadata": {},
   "outputs": [
    {
     "data": {
      "text/html": [
       "<div>\n",
       "<style scoped>\n",
       "    .dataframe tbody tr th:only-of-type {\n",
       "        vertical-align: middle;\n",
       "    }\n",
       "\n",
       "    .dataframe tbody tr th {\n",
       "        vertical-align: top;\n",
       "    }\n",
       "\n",
       "    .dataframe thead th {\n",
       "        text-align: right;\n",
       "    }\n",
       "</style>\n",
       "<table border=\"1\" class=\"dataframe\">\n",
       "  <thead>\n",
       "    <tr style=\"text-align: right;\">\n",
       "      <th></th>\n",
       "      <th>factor1</th>\n",
       "      <th>factor2</th>\n",
       "      <th>factor3</th>\n",
       "      <th>factor4</th>\n",
       "    </tr>\n",
       "  </thead>\n",
       "  <tbody>\n",
       "    <tr>\n",
       "      <th>0</th>\n",
       "      <td>-1.097079</td>\n",
       "      <td>-0.336480</td>\n",
       "      <td>-1.098570</td>\n",
       "      <td>-0.411634</td>\n",
       "    </tr>\n",
       "    <tr>\n",
       "      <th>1</th>\n",
       "      <td>-0.052855</td>\n",
       "      <td>-0.568605</td>\n",
       "      <td>-0.070039</td>\n",
       "      <td>-0.430494</td>\n",
       "    </tr>\n",
       "    <tr>\n",
       "      <th>2</th>\n",
       "      <td>-0.469368</td>\n",
       "      <td>-0.152148</td>\n",
       "      <td>-0.752988</td>\n",
       "      <td>-0.899322</td>\n",
       "    </tr>\n",
       "    <tr>\n",
       "      <th>3</th>\n",
       "      <td>0.434917</td>\n",
       "      <td>-0.442833</td>\n",
       "      <td>1.321007</td>\n",
       "      <td>1.921138</td>\n",
       "    </tr>\n",
       "    <tr>\n",
       "      <th>4</th>\n",
       "      <td>0.604824</td>\n",
       "      <td>3.384372</td>\n",
       "      <td>0.657074</td>\n",
       "      <td>-0.482705</td>\n",
       "    </tr>\n",
       "  </tbody>\n",
       "</table>\n",
       "</div>"
      ],
      "text/plain": [
       "    factor1   factor2   factor3   factor4\n",
       "0 -1.097079 -0.336480 -1.098570 -0.411634\n",
       "1 -0.052855 -0.568605 -0.070039 -0.430494\n",
       "2 -0.469368 -0.152148 -0.752988 -0.899322\n",
       "3  0.434917 -0.442833  1.321007  1.921138\n",
       "4  0.604824  3.384372  0.657074 -0.482705"
      ]
     },
     "execution_count": 83,
     "metadata": {},
     "output_type": "execute_result"
    }
   ],
   "source": [
    "scores_4=pd.DataFrame(fa_4.fit_transform(df_scaled), columns=['factor1', 'factor2', 'factor3', 'factor4'])\n",
    "scores_4.head()"
   ]
  },
  {
   "attachments": {},
   "cell_type": "markdown",
   "metadata": {},
   "source": [
    "27.\tОцените корреляцию между факторами, обратившись к функции corr(). Сделайте вывод о возможности применения факторов в регрессионном анализе."
   ]
  },
  {
   "cell_type": "code",
   "execution_count": 84,
   "metadata": {},
   "outputs": [
    {
     "data": {
      "text/html": [
       "<div>\n",
       "<style scoped>\n",
       "    .dataframe tbody tr th:only-of-type {\n",
       "        vertical-align: middle;\n",
       "    }\n",
       "\n",
       "    .dataframe tbody tr th {\n",
       "        vertical-align: top;\n",
       "    }\n",
       "\n",
       "    .dataframe thead th {\n",
       "        text-align: right;\n",
       "    }\n",
       "</style>\n",
       "<table border=\"1\" class=\"dataframe\">\n",
       "  <thead>\n",
       "    <tr style=\"text-align: right;\">\n",
       "      <th></th>\n",
       "      <th>factor1</th>\n",
       "      <th>factor2</th>\n",
       "      <th>factor3</th>\n",
       "      <th>factor4</th>\n",
       "    </tr>\n",
       "  </thead>\n",
       "  <tbody>\n",
       "    <tr>\n",
       "      <th>factor1</th>\n",
       "      <td>1.000000</td>\n",
       "      <td>-0.033659</td>\n",
       "      <td>-0.021141</td>\n",
       "      <td>0.238069</td>\n",
       "    </tr>\n",
       "    <tr>\n",
       "      <th>factor2</th>\n",
       "      <td>-0.033659</td>\n",
       "      <td>1.000000</td>\n",
       "      <td>0.049677</td>\n",
       "      <td>-0.016314</td>\n",
       "    </tr>\n",
       "    <tr>\n",
       "      <th>factor3</th>\n",
       "      <td>-0.021141</td>\n",
       "      <td>0.049677</td>\n",
       "      <td>1.000000</td>\n",
       "      <td>0.034119</td>\n",
       "    </tr>\n",
       "    <tr>\n",
       "      <th>factor4</th>\n",
       "      <td>0.238069</td>\n",
       "      <td>-0.016314</td>\n",
       "      <td>0.034119</td>\n",
       "      <td>1.000000</td>\n",
       "    </tr>\n",
       "  </tbody>\n",
       "</table>\n",
       "</div>"
      ],
      "text/plain": [
       "          factor1   factor2   factor3   factor4\n",
       "factor1  1.000000 -0.033659 -0.021141  0.238069\n",
       "factor2 -0.033659  1.000000  0.049677 -0.016314\n",
       "factor3 -0.021141  0.049677  1.000000  0.034119\n",
       "factor4  0.238069 -0.016314  0.034119  1.000000"
      ]
     },
     "execution_count": 84,
     "metadata": {},
     "output_type": "execute_result"
    }
   ],
   "source": [
    "scores_4.corr()"
   ]
  },
  {
   "cell_type": "code",
   "execution_count": 85,
   "metadata": {},
   "outputs": [
    {
     "data": {
      "text/html": [
       "<style>#sk-container-id-20 {color: black;background-color: white;}#sk-container-id-20 pre{padding: 0;}#sk-container-id-20 div.sk-toggleable {background-color: white;}#sk-container-id-20 label.sk-toggleable__label {cursor: pointer;display: block;width: 100%;margin-bottom: 0;padding: 0.3em;box-sizing: border-box;text-align: center;}#sk-container-id-20 label.sk-toggleable__label-arrow:before {content: \"▸\";float: left;margin-right: 0.25em;color: #696969;}#sk-container-id-20 label.sk-toggleable__label-arrow:hover:before {color: black;}#sk-container-id-20 div.sk-estimator:hover label.sk-toggleable__label-arrow:before {color: black;}#sk-container-id-20 div.sk-toggleable__content {max-height: 0;max-width: 0;overflow: hidden;text-align: left;background-color: #f0f8ff;}#sk-container-id-20 div.sk-toggleable__content pre {margin: 0.2em;color: black;border-radius: 0.25em;background-color: #f0f8ff;}#sk-container-id-20 input.sk-toggleable__control:checked~div.sk-toggleable__content {max-height: 200px;max-width: 100%;overflow: auto;}#sk-container-id-20 input.sk-toggleable__control:checked~label.sk-toggleable__label-arrow:before {content: \"▾\";}#sk-container-id-20 div.sk-estimator input.sk-toggleable__control:checked~label.sk-toggleable__label {background-color: #d4ebff;}#sk-container-id-20 div.sk-label input.sk-toggleable__control:checked~label.sk-toggleable__label {background-color: #d4ebff;}#sk-container-id-20 input.sk-hidden--visually {border: 0;clip: rect(1px 1px 1px 1px);clip: rect(1px, 1px, 1px, 1px);height: 1px;margin: -1px;overflow: hidden;padding: 0;position: absolute;width: 1px;}#sk-container-id-20 div.sk-estimator {font-family: monospace;background-color: #f0f8ff;border: 1px dotted black;border-radius: 0.25em;box-sizing: border-box;margin-bottom: 0.5em;}#sk-container-id-20 div.sk-estimator:hover {background-color: #d4ebff;}#sk-container-id-20 div.sk-parallel-item::after {content: \"\";width: 100%;border-bottom: 1px solid gray;flex-grow: 1;}#sk-container-id-20 div.sk-label:hover label.sk-toggleable__label {background-color: #d4ebff;}#sk-container-id-20 div.sk-serial::before {content: \"\";position: absolute;border-left: 1px solid gray;box-sizing: border-box;top: 0;bottom: 0;left: 50%;z-index: 0;}#sk-container-id-20 div.sk-serial {display: flex;flex-direction: column;align-items: center;background-color: white;padding-right: 0.2em;padding-left: 0.2em;position: relative;}#sk-container-id-20 div.sk-item {position: relative;z-index: 1;}#sk-container-id-20 div.sk-parallel {display: flex;align-items: stretch;justify-content: center;background-color: white;position: relative;}#sk-container-id-20 div.sk-item::before, #sk-container-id-20 div.sk-parallel-item::before {content: \"\";position: absolute;border-left: 1px solid gray;box-sizing: border-box;top: 0;bottom: 0;left: 50%;z-index: -1;}#sk-container-id-20 div.sk-parallel-item {display: flex;flex-direction: column;z-index: 1;position: relative;background-color: white;}#sk-container-id-20 div.sk-parallel-item:first-child::after {align-self: flex-end;width: 50%;}#sk-container-id-20 div.sk-parallel-item:last-child::after {align-self: flex-start;width: 50%;}#sk-container-id-20 div.sk-parallel-item:only-child::after {width: 0;}#sk-container-id-20 div.sk-dashed-wrapped {border: 1px dashed gray;margin: 0 0.4em 0.5em 0.4em;box-sizing: border-box;padding-bottom: 0.4em;background-color: white;}#sk-container-id-20 div.sk-label label {font-family: monospace;font-weight: bold;display: inline-block;line-height: 1.2em;}#sk-container-id-20 div.sk-label-container {text-align: center;}#sk-container-id-20 div.sk-container {/* jupyter's `normalize.less` sets `[hidden] { display: none; }` but bootstrap.min.css set `[hidden] { display: none !important; }` so we also need the `!important` here to be able to override the default hidden behavior on the sphinx rendered scikit-learn.org. See: https://github.com/scikit-learn/scikit-learn/issues/21755 */display: inline-block !important;position: relative;}#sk-container-id-20 div.sk-text-repr-fallback {display: none;}</style><div id=\"sk-container-id-20\" class=\"sk-top-container\"><div class=\"sk-text-repr-fallback\"><pre>FactorAnalyzer(impute=&#x27;drop&#x27;, n_factors=5, rotation=&#x27;varimax&#x27;,\n",
       "               rotation_kwargs={})</pre><b>In a Jupyter environment, please rerun this cell to show the HTML representation or trust the notebook. <br />On GitHub, the HTML representation is unable to render, please try loading this page with nbviewer.org.</b></div><div class=\"sk-container\" hidden><div class=\"sk-item\"><div class=\"sk-estimator sk-toggleable\"><input class=\"sk-toggleable__control sk-hidden--visually\" id=\"sk-estimator-id-20\" type=\"checkbox\" checked><label for=\"sk-estimator-id-20\" class=\"sk-toggleable__label sk-toggleable__label-arrow\">FactorAnalyzer</label><div class=\"sk-toggleable__content\"><pre>FactorAnalyzer(impute=&#x27;drop&#x27;, n_factors=5, rotation=&#x27;varimax&#x27;,\n",
       "               rotation_kwargs={})</pre></div></div></div></div></div>"
      ],
      "text/plain": [
       "FactorAnalyzer(impute='drop', n_factors=5, rotation='varimax',\n",
       "               rotation_kwargs={})"
      ]
     },
     "execution_count": 85,
     "metadata": {},
     "output_type": "execute_result"
    }
   ],
   "source": [
    "# 5 факторов\n",
    "fa_5=FactorAnalyzer(rotation='varimax', impute=\"drop\", n_factors=5)\n",
    "fa_5.fit(df_scaled)\n"
   ]
  },
  {
   "cell_type": "code",
   "execution_count": 86,
   "metadata": {},
   "outputs": [
    {
     "name": "stdout",
     "output_type": "stream",
     "text": [
      "                   factor1   factor2   factor3   factor4   factor5\n",
      "Variance          1.423792  1.063324  0.632380  0.620570  0.203289\n",
      "Proportional Var  0.203399  0.151903  0.090340  0.088653  0.029041\n",
      "Cumulative Var    0.203399  0.355302  0.445642  0.534295  0.563336\n"
     ]
    }
   ],
   "source": [
    "print(pd.DataFrame(fa_5.get_factor_variance(),index=['Variance','Proportional Var','Cumulative Var'], columns=['factor1', 'factor2', 'factor3', 'factor4', 'factor5']))"
   ]
  },
  {
   "attachments": {},
   "cell_type": "markdown",
   "metadata": {},
   "source": [
    "<span style=\"color:red\"> накопленная дисперсия cumulative var=0.563, что хуже по сравнению с 4 факторами (0.625). Посмотрим остальные показатели и может 4 факторов достаточно для преобразования данных?..</span>"
   ]
  },
  {
   "cell_type": "code",
   "execution_count": 87,
   "metadata": {},
   "outputs": [
    {
     "name": "stdout",
     "output_type": "stream",
     "text": [
      "         Communalities\n",
      "LUNGES        0.780329\n",
      "BITES         0.890443\n",
      "ZIGZAGS       0.356222\n",
      "NEST          0.738836\n",
      "SPINES        0.394924\n",
      "DNEST         0.539797\n",
      "BOUT          0.242804\n"
     ]
    }
   ],
   "source": [
    "print(pd.DataFrame(fa_5.get_communalities(),index=df.columns,columns=['Communalities']))"
   ]
  },
  {
   "cell_type": "code",
   "execution_count": 88,
   "metadata": {},
   "outputs": [
    {
     "data": {
      "text/html": [
       "<div>\n",
       "<style scoped>\n",
       "    .dataframe tbody tr th:only-of-type {\n",
       "        vertical-align: middle;\n",
       "    }\n",
       "\n",
       "    .dataframe tbody tr th {\n",
       "        vertical-align: top;\n",
       "    }\n",
       "\n",
       "    .dataframe thead th {\n",
       "        text-align: right;\n",
       "    }\n",
       "</style>\n",
       "<table border=\"1\" class=\"dataframe\">\n",
       "  <thead>\n",
       "    <tr style=\"text-align: right;\">\n",
       "      <th></th>\n",
       "      <th>factor1</th>\n",
       "      <th>factor2</th>\n",
       "      <th>factor3</th>\n",
       "      <th>factor4</th>\n",
       "      <th>factor5</th>\n",
       "    </tr>\n",
       "  </thead>\n",
       "  <tbody>\n",
       "    <tr>\n",
       "      <th>0</th>\n",
       "      <td>-1.085823</td>\n",
       "      <td>-0.452603</td>\n",
       "      <td>-0.337778</td>\n",
       "      <td>-0.523583</td>\n",
       "      <td>-0.158838</td>\n",
       "    </tr>\n",
       "    <tr>\n",
       "      <th>1</th>\n",
       "      <td>-0.102918</td>\n",
       "      <td>-0.520894</td>\n",
       "      <td>-0.386753</td>\n",
       "      <td>-0.175879</td>\n",
       "      <td>0.281984</td>\n",
       "    </tr>\n",
       "    <tr>\n",
       "      <th>2</th>\n",
       "      <td>-0.514932</td>\n",
       "      <td>-0.258790</td>\n",
       "      <td>-0.911352</td>\n",
       "      <td>-0.306484</td>\n",
       "      <td>-0.102044</td>\n",
       "    </tr>\n",
       "    <tr>\n",
       "      <th>3</th>\n",
       "      <td>0.644560</td>\n",
       "      <td>-0.651998</td>\n",
       "      <td>1.368931</td>\n",
       "      <td>0.552242</td>\n",
       "      <td>-0.416668</td>\n",
       "    </tr>\n",
       "    <tr>\n",
       "      <th>4</th>\n",
       "      <td>0.486498</td>\n",
       "      <td>2.420377</td>\n",
       "      <td>-0.688870</td>\n",
       "      <td>2.446729</td>\n",
       "      <td>-0.563145</td>\n",
       "    </tr>\n",
       "  </tbody>\n",
       "</table>\n",
       "</div>"
      ],
      "text/plain": [
       "    factor1   factor2   factor3   factor4   factor5\n",
       "0 -1.085823 -0.452603 -0.337778 -0.523583 -0.158838\n",
       "1 -0.102918 -0.520894 -0.386753 -0.175879  0.281984\n",
       "2 -0.514932 -0.258790 -0.911352 -0.306484 -0.102044\n",
       "3  0.644560 -0.651998  1.368931  0.552242 -0.416668\n",
       "4  0.486498  2.420377 -0.688870  2.446729 -0.563145"
      ]
     },
     "execution_count": 88,
     "metadata": {},
     "output_type": "execute_result"
    }
   ],
   "source": [
    "scores_5=pd.DataFrame(fa_5.fit_transform(df_scaled), columns=['factor1', 'factor2', 'factor3', 'factor4', 'factor5'])\n",
    "scores_5.head()"
   ]
  },
  {
   "cell_type": "code",
   "execution_count": 89,
   "metadata": {},
   "outputs": [
    {
     "data": {
      "text/html": [
       "<div>\n",
       "<style scoped>\n",
       "    .dataframe tbody tr th:only-of-type {\n",
       "        vertical-align: middle;\n",
       "    }\n",
       "\n",
       "    .dataframe tbody tr th {\n",
       "        vertical-align: top;\n",
       "    }\n",
       "\n",
       "    .dataframe thead th {\n",
       "        text-align: right;\n",
       "    }\n",
       "</style>\n",
       "<table border=\"1\" class=\"dataframe\">\n",
       "  <thead>\n",
       "    <tr style=\"text-align: right;\">\n",
       "      <th></th>\n",
       "      <th>factor1</th>\n",
       "      <th>factor2</th>\n",
       "      <th>factor3</th>\n",
       "      <th>factor4</th>\n",
       "      <th>factor5</th>\n",
       "    </tr>\n",
       "  </thead>\n",
       "  <tbody>\n",
       "    <tr>\n",
       "      <th>factor1</th>\n",
       "      <td>1.000000</td>\n",
       "      <td>-0.022786</td>\n",
       "      <td>0.195934</td>\n",
       "      <td>-0.010127</td>\n",
       "      <td>0.189397</td>\n",
       "    </tr>\n",
       "    <tr>\n",
       "      <th>factor2</th>\n",
       "      <td>-0.022786</td>\n",
       "      <td>1.000000</td>\n",
       "      <td>-0.089070</td>\n",
       "      <td>0.309722</td>\n",
       "      <td>-0.371640</td>\n",
       "    </tr>\n",
       "    <tr>\n",
       "      <th>factor3</th>\n",
       "      <td>0.195934</td>\n",
       "      <td>-0.089070</td>\n",
       "      <td>1.000000</td>\n",
       "      <td>0.038922</td>\n",
       "      <td>-0.349570</td>\n",
       "    </tr>\n",
       "    <tr>\n",
       "      <th>factor4</th>\n",
       "      <td>-0.010127</td>\n",
       "      <td>0.309722</td>\n",
       "      <td>0.038922</td>\n",
       "      <td>1.000000</td>\n",
       "      <td>-0.339402</td>\n",
       "    </tr>\n",
       "    <tr>\n",
       "      <th>factor5</th>\n",
       "      <td>0.189397</td>\n",
       "      <td>-0.371640</td>\n",
       "      <td>-0.349570</td>\n",
       "      <td>-0.339402</td>\n",
       "      <td>1.000000</td>\n",
       "    </tr>\n",
       "  </tbody>\n",
       "</table>\n",
       "</div>"
      ],
      "text/plain": [
       "          factor1   factor2   factor3   factor4   factor5\n",
       "factor1  1.000000 -0.022786  0.195934 -0.010127  0.189397\n",
       "factor2 -0.022786  1.000000 -0.089070  0.309722 -0.371640\n",
       "factor3  0.195934 -0.089070  1.000000  0.038922 -0.349570\n",
       "factor4 -0.010127  0.309722  0.038922  1.000000 -0.339402\n",
       "factor5  0.189397 -0.371640 -0.349570 -0.339402  1.000000"
      ]
     },
     "execution_count": 89,
     "metadata": {},
     "output_type": "execute_result"
    }
   ],
   "source": [
    "scores_5.corr()"
   ]
  },
  {
   "cell_type": "code",
   "execution_count": 93,
   "metadata": {},
   "outputs": [
    {
     "name": "stdout",
     "output_type": "stream",
     "text": [
      "          factor1   factor2\n",
      "factor1  1.000000 -0.004571\n",
      "factor2 -0.004571  1.000000\n",
      "\n",
      "          factor1   factor2   factor3\n",
      "factor1  1.000000  0.029053 -0.062402\n",
      "factor2  0.029053  1.000000  0.160403\n",
      "factor3 -0.062402  0.160403  1.000000\n",
      "\n",
      "          factor1   factor2   factor3   factor4\n",
      "factor1  1.000000 -0.033659 -0.021141  0.238069\n",
      "factor2 -0.033659  1.000000  0.049677 -0.016314\n",
      "factor3 -0.021141  0.049677  1.000000  0.034119\n",
      "factor4  0.238069 -0.016314  0.034119  1.000000\n",
      "\n",
      "          factor1   factor2   factor3   factor4   factor5\n",
      "factor1  1.000000 -0.022786  0.195934 -0.010127  0.189397\n",
      "factor2 -0.022786  1.000000 -0.089070  0.309722 -0.371640\n",
      "factor3  0.195934 -0.089070  1.000000  0.038922 -0.349570\n",
      "factor4 -0.010127  0.309722  0.038922  1.000000 -0.339402\n",
      "factor5  0.189397 -0.371640 -0.349570 -0.339402  1.000000\n"
     ]
    }
   ],
   "source": [
    "print(scores_2.corr())\n",
    "print()\n",
    "print(scores_3.corr())\n",
    "print()\n",
    "print(scores_4.corr())\n",
    "print()\n",
    "print(scores_5.corr())"
   ]
  },
  {
   "attachments": {},
   "cell_type": "markdown",
   "metadata": {},
   "source": [
    "<span style=\"color:red\"> я бы оставила 4 фактора для дальнейшей трансформации данных и обучения модели</span>"
   ]
  }
 ],
 "metadata": {
  "kernelspec": {
   "display_name": "base",
   "language": "python",
   "name": "python3"
  },
  "language_info": {
   "codemirror_mode": {
    "name": "ipython",
    "version": 3
   },
   "file_extension": ".py",
   "mimetype": "text/x-python",
   "name": "python",
   "nbconvert_exporter": "python",
   "pygments_lexer": "ipython3",
   "version": "3.9.16"
  },
  "orig_nbformat": 4,
  "vscode": {
   "interpreter": {
    "hash": "d0da97104d38feb16e153266d9041b8bad25f307ab3732bc0037a8ea077046bd"
   }
  }
 },
 "nbformat": 4,
 "nbformat_minor": 2
}
